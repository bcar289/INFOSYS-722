{
 "cells": [
  {
   "cell_type": "code",
   "execution_count": 26,
   "metadata": {},
   "outputs": [],
   "source": [
    "# Section must be included at the beginning of each new notebook. Remember to change the app name. \n",
    "# If you're using VirtualBox, change the below to '/home/user/spark-2.1.1-bin-hadoop2.7'\n",
    "import findspark\n",
    "findspark.init('/home/ubuntu/spark-2.1.1-bin-hadoop2.7')\n",
    "import pyspark\n",
    "from pyspark.sql import SparkSession\n",
    "spark = SparkSession.builder.appName('basics').getOrCreate()"
   ]
  },
  {
   "cell_type": "code",
   "execution_count": 27,
   "metadata": {},
   "outputs": [],
   "source": [
    "# Let's read in the data. If you open the dataset, you'll find that each column has a header. We specify that by stating that header=True.\n",
    "# To make our lives easier, we can also use 'inferSchema' when importing CSVs. This automatically detects data types.\n",
    "# If you would like to manually change data types, refer to this article: https://medium.com/@mrpowers/adding-structtype-columns-to-spark-dataframes-b44125409803\n",
    "df = spark.read.csv('Datasets/IVS_Country.csv',header=True,inferSchema=True)"
   ]
  },
  {
   "cell_type": "code",
   "execution_count": 28,
   "metadata": {},
   "outputs": [
    {
     "name": "stdout",
     "output_type": "stream",
     "text": [
      "root\n",
      " |-- Year: integer (nullable = true)\n",
      " |-- Quarter: integer (nullable = true)\n",
      " |-- Year ending: string (nullable = true)\n",
      " |-- Airport of departure: string (nullable = true)\n",
      " |-- Purpose of visit: string (nullable = true)\n",
      " |-- Country of permanent residence: string (nullable = true)\n",
      " |-- Total visitor spend: double (nullable = true)\n",
      " |-- Total visitors: integer (nullable = true)\n",
      "\n"
     ]
    }
   ],
   "source": [
    "# The show method allows you visualise DataFrames in a tabular format. \n",
    "df.printSchema()"
   ]
  },
  {
   "cell_type": "code",
   "execution_count": 29,
   "metadata": {},
   "outputs": [
    {
     "name": "stdout",
     "output_type": "stream",
     "text": [
      "root\n",
      " |-- Year: integer (nullable = true)\n",
      " |-- Quarter: integer (nullable = true)\n",
      " |-- Year ending: string (nullable = true)\n",
      " |-- Airport of departure: string (nullable = true)\n",
      " |-- Purpose of visit: string (nullable = true)\n",
      " |-- Country of permanent residence: string (nullable = true)\n",
      " |-- Total visitor spend: double (nullable = true)\n",
      " |-- Total visitors: integer (nullable = true)\n",
      "\n",
      "[Row(Year=1997, Quarter=4, Year ending='YEDec 1997', Airport of departure='Auckland', Purpose of visit='Business', Country of permanent residence='Africa and Middle East', Total visitor spend=4266524.07, Total visitors=1684)]\n"
     ]
    }
   ],
   "source": [
    "# Print schema allows us to visualise the data structure at a high level. \n",
    "df.printSchema()\n",
    "\n",
    "# We can also use head to print a specific amount of rows, so we can get a better understanding of the data points. \n",
    "# Note that we have to specify 'print' depending on the method we're using. Otherwise it may not show up!\n",
    "print(df.head(1))\n"
   ]
  },
  {
   "cell_type": "code",
   "execution_count": 30,
   "metadata": {},
   "outputs": [
    {
     "name": "stdout",
     "output_type": "stream",
     "text": [
      "+-------+-----------------+------------------+-----------+--------------------+--------------------+------------------------------+--------------------+------------------+\n",
      "|summary|             Year|           Quarter|Year ending|Airport of departure|    Purpose of visit|Country of permanent residence| Total visitor spend|    Total visitors|\n",
      "+-------+-----------------+------------------+-----------+--------------------+--------------------+------------------------------+--------------------+------------------+\n",
      "|  count|            17056|             17056|      17056|               17056|               17056|                         17056|               11292|             11292|\n",
      "|   mean|2007.499941369606|               2.5|       null|                null|                null|                          null|  5.09246119696264E7|15576.741232731138|\n",
      "| stddev|5.927085540507713|1.1289220372929016|       null|                null|                null|                          null|1.0193863986366412E8|33229.303734004156|\n",
      "|    min|             1997|                 1| YEDec 1997|            Auckland|            Business|          Africa and Middle...|                 2.4|                 1|\n",
      "|    max|             2018|                 4| YESep 2017|          Wellington|Visiting friends ...|                           USA|       1.235333092E9|            314584|\n",
      "+-------+-----------------+------------------+-----------+--------------------+--------------------+------------------------------+--------------------+------------------+\n",
      "\n"
     ]
    }
   ],
   "source": [
    "\n",
    "# We can use the describe method get some general statistics on our data too. \n",
    "df.describe().show()"
   ]
  },
  {
   "cell_type": "code",
   "execution_count": 31,
   "metadata": {
    "scrolled": true
   },
   "outputs": [
    {
     "name": "stdout",
     "output_type": "stream",
     "text": [
      "+-------+--------------------+------------------+\n",
      "|summary| total visitor spend|    total visitors|\n",
      "+-------+--------------------+------------------+\n",
      "|  count|               11292|             11292|\n",
      "|   mean|  5.09246119696264E7|15576.741232731138|\n",
      "| stddev|1.0193863986366412E8|33229.303734004156|\n",
      "|    min|                 2.4|                 1|\n",
      "|    max|       1.235333092E9|            314584|\n",
      "+-------+--------------------+------------------+\n",
      "\n"
     ]
    }
   ],
   "source": [
    "# Let's select the columns that are numbers, and use the describe method again.\n",
    "# We see that the number of visitors is 11292\n",
    "df.select('total visitor spend', 'total visitors').describe().show()"
   ]
  },
  {
   "cell_type": "code",
   "execution_count": 32,
   "metadata": {},
   "outputs": [
    {
     "name": "stdout",
     "output_type": "stream",
     "text": [
      "+----+-------------------+--------------+\n",
      "|year|total visitor spend|total visitors|\n",
      "+----+-------------------+--------------+\n",
      "|1998|         3869387.92|          1470|\n",
      "|1998|      1.058719738E8|         81260|\n",
      "|1998|         6954459.85|          2528|\n",
      "|1998|         9494071.42|          4292|\n",
      "|1998|         8224341.72|          2614|\n",
      "|1998|       2.89316078E7|         11486|\n",
      "|1998|         2954720.33|          1481|\n",
      "|1998|      1.330060993E7|          4016|\n",
      "|1998|      4.071200398E7|         14803|\n",
      "|1998|         9591296.92|          5667|\n",
      "|1998|      2.214571426E7|         10492|\n",
      "|1998|      2.279319377E7|          7531|\n",
      "|1998|      7.490013731E7|         17996|\n",
      "|1998|      5.459006734E7|         18851|\n",
      "|1998|      1.861385079E8|         89738|\n",
      "|1998|      3.668649685E7|         14390|\n",
      "|1998|      1.662960392E7|          5787|\n",
      "|1998|       8.52247009E7|         22818|\n",
      "|1998|      4.393428823E8|         99080|\n",
      "|1998|         6353589.59|          4317|\n",
      "+----+-------------------+--------------+\n",
      "only showing top 20 rows\n",
      "\n"
     ]
    }
   ],
   "source": [
    "df.filter(\"year > 1997 AND year < 2018\").select('year','total visitor spend','total visitors').show()"
   ]
  },
  {
   "cell_type": "code",
   "execution_count": 33,
   "metadata": {},
   "outputs": [
    {
     "name": "stdout",
     "output_type": "stream",
     "text": [
      "+----+---------+------------------+------------------------+-------------------+\n",
      "|year|avg(Year)|      avg(Quarter)|avg(Total visitor spend)|avg(Total visitors)|\n",
      "+----+---------+------------------+------------------------+-------------------+\n",
      "|2003|   2003.0|               2.5|     5.135416301498114E7| 13634.035849056603|\n",
      "|2007|   2007.0|               2.5|     5.298485946447189E7| 15404.785211267606|\n",
      "|2018|   2018.0|               1.0|     7.026104768109676E7| 21725.135483870967|\n",
      "|2015|   2015.0|               2.5|     5.966558845162526E7| 18085.746268656716|\n",
      "|2006|   2006.0|2.5018050541516246|    5.0525060003616996E7| 15063.421985815603|\n",
      "|2013|   2013.0|               2.5|     4.421295895952306E7| 16116.270868824531|\n",
      "|1997|   1997.0|               4.0|    3.3225332315086212E7| 11587.715517241379|\n",
      "|2014|   2014.0|               2.5|    4.5876300145355344E7| 16643.788429752065|\n",
      "|2004|   2004.0|               2.5|     5.061080516626356E7| 14528.119133574008|\n",
      "|1998|   1998.0|               2.5|     3.337081881656781E7| 11144.726694915254|\n",
      "|2012|   2012.0|               2.5|     4.798585044400364E7| 16995.919561243143|\n",
      "|2009|   2009.0|               2.5|     5.190624087116069E7| 15241.976785714285|\n",
      "|2016|   2016.0|               2.5|     6.521579256804176E7| 19415.967897271268|\n",
      "|2001|   2001.0|               2.5|     4.976810450179791E7| 13240.630303030302|\n",
      "|2005|   2005.0| 2.498199279711885|     4.997174125759929E7|  15385.70938628159|\n",
      "|2000|   2000.0|               2.5|     4.417984847773549E7| 12080.985971943888|\n",
      "|2010|   2010.0|               2.5|     4.856393815116903E7|  15933.99820143885|\n",
      "|2011|   2011.0|               2.5|     4.779925427113716E7| 16327.361010830326|\n",
      "|2008|   2008.0|               2.5|    5.2318622948958404E7| 15208.916666666666|\n",
      "|2017|   2017.0|               2.5|       6.8630243621897E7| 21632.174708818635|\n",
      "+----+---------+------------------+------------------------+-------------------+\n",
      "only showing top 20 rows\n",
      "\n"
     ]
    }
   ],
   "source": [
    "df.groupBy('year').mean().show()"
   ]
  },
  {
   "cell_type": "code",
   "execution_count": 34,
   "metadata": {},
   "outputs": [
    {
     "name": "stdout",
     "output_type": "stream",
     "text": [
      "+----+---------+------------+------------------------+-------------------+\n",
      "|year|sum(Year)|sum(Quarter)|sum(Total visitor spend)|sum(Total visitors)|\n",
      "+----+---------+------------+------------------------+-------------------+\n",
      "|2003|  1666496|        2080|    2.721770639794000...|            7226039|\n",
      "|2007|  1669824|        2080|    3.009540017582003...|            8749918|\n",
      "|2018|   419744|         208|    1.089046239056999...|            3367396|\n",
      "|2015|  1676480|        2080|    3.597834983633003E10|           10905705|\n",
      "|2006|  1666986|        2079|    2.849613384203998...|            8495770|\n",
      "|2013|  1674816|        2080|    2.595300690924003...|            9460251|\n",
      "|1997|   415376|         832|    3.8541385485500007E9|            1344175|\n",
      "|2014|  1675648|        2080|    2.775516158793998...|           10069492|\n",
      "|2004|  1667328|        2080|    2.803838606211001...|            8048578|\n",
      "|1998|  1662336|        2080|    1.575102648142000...|            5260311|\n",
      "|2012|  1673984|        2080|    2.624826019286999E10|            9296768|\n",
      "|2009|  1671488|        2080|    2.906749488784998...|            8535507|\n",
      "|2016|  1677312|        2080|    4.062943876989001...|           12096148|\n",
      "|2001|  1664832|        2080|    2.463521172838996...|            6554112|\n",
      "|2005|  1670165|        2081|    2.768434465671000...|            8523683|\n",
      "|2000|  1664000|        2080|    2.204574439039001E10|            6028412|\n",
      "|2010|  1672320|        2080|    2.700154961204998E10|            8859303|\n",
      "|2011|  1673152|        2080|    2.648078686620998...|            9045358|\n",
      "|2008|  1670656|        2080|    3.013552681860004E10|            8760336|\n",
      "|2017|  1678144|        2080|    4.124677641676009E10|           13000937|\n",
      "+----+---------+------------+------------------------+-------------------+\n",
      "only showing top 20 rows\n",
      "\n"
     ]
    }
   ],
   "source": [
    "df.groupBy('year').sum().show()"
   ]
  },
  {
   "cell_type": "code",
   "execution_count": 35,
   "metadata": {},
   "outputs": [
    {
     "name": "stdout",
     "output_type": "stream",
     "text": [
      "+----+---------+------------------+------------------------+-------------------+\n",
      "|year|avg(Year)|      avg(Quarter)|avg(Total visitor spend)|avg(Total visitors)|\n",
      "+----+---------+------------------+------------------------+-------------------+\n",
      "|2003|   2003.0|               2.5|     5.135416301498114E7| 13634.035849056603|\n",
      "|2007|   2007.0|               2.5|     5.298485946447189E7| 15404.785211267606|\n",
      "|2018|   2018.0|               1.0|     7.026104768109676E7| 21725.135483870967|\n",
      "|2015|   2015.0|               2.5|     5.966558845162526E7| 18085.746268656716|\n",
      "|2006|   2006.0|2.5018050541516246|    5.0525060003616996E7| 15063.421985815603|\n",
      "|2013|   2013.0|               2.5|     4.421295895952306E7| 16116.270868824531|\n",
      "|1997|   1997.0|               4.0|    3.3225332315086212E7| 11587.715517241379|\n",
      "|2014|   2014.0|               2.5|    4.5876300145355344E7| 16643.788429752065|\n",
      "|2004|   2004.0|               2.5|     5.061080516626356E7| 14528.119133574008|\n",
      "|1998|   1998.0|               2.5|     3.337081881656781E7| 11144.726694915254|\n",
      "|2012|   2012.0|               2.5|     4.798585044400364E7| 16995.919561243143|\n",
      "|2009|   2009.0|               2.5|     5.190624087116069E7| 15241.976785714285|\n",
      "|2016|   2016.0|               2.5|     6.521579256804176E7| 19415.967897271268|\n",
      "|2001|   2001.0|               2.5|     4.976810450179791E7| 13240.630303030302|\n",
      "|2005|   2005.0| 2.498199279711885|     4.997174125759929E7|  15385.70938628159|\n",
      "|2000|   2000.0|               2.5|     4.417984847773549E7| 12080.985971943888|\n",
      "|2010|   2010.0|               2.5|     4.856393815116903E7|  15933.99820143885|\n",
      "|2011|   2011.0|               2.5|     4.779925427113716E7| 16327.361010830326|\n",
      "|2008|   2008.0|               2.5|    5.2318622948958404E7| 15208.916666666666|\n",
      "|2017|   2017.0|               2.5|       6.8630243621897E7| 21632.174708818635|\n",
      "+----+---------+------------------+------------------------+-------------------+\n",
      "only showing top 20 rows\n",
      "\n"
     ]
    },
    {
     "ename": "NameError",
     "evalue": "name 'group_job_df' is not defined",
     "output_type": "error",
     "traceback": [
      "\u001b[0;31m---------------------------------------------------------------------------\u001b[0m",
      "\u001b[0;31mNameError\u001b[0m                                 Traceback (most recent call last)",
      "\u001b[0;32m<ipython-input-35-6e33f772f9a5>\u001b[0m in \u001b[0;36m<module>\u001b[0;34m()\u001b[0m\n\u001b[1;32m      7\u001b[0m \u001b[0;31m# We can use format_number to reduce the total amount of decimals.\u001b[0m\u001b[0;34m\u001b[0m\u001b[0;34m\u001b[0m\u001b[0m\n\u001b[1;32m      8\u001b[0m \u001b[0;31m# The number two represents the amount of decimals we want to be displayed.\u001b[0m\u001b[0;34m\u001b[0m\u001b[0;34m\u001b[0m\u001b[0m\n\u001b[0;32m----> 9\u001b[0;31m group_job_df = group_job_df.select('year',\n\u001b[0m\u001b[1;32m     10\u001b[0m                                    \u001b[0mformat_number\u001b[0m\u001b[0;34m(\u001b[0m\u001b[0;34m'avg(total visitor spend)'\u001b[0m\u001b[0;34m,\u001b[0m\u001b[0;36m2\u001b[0m\u001b[0;34m)\u001b[0m\u001b[0;34m,\u001b[0m\u001b[0;34m\u001b[0m\u001b[0m\n\u001b[1;32m     11\u001b[0m                                    format_number('avg(total visitors)',2))\n",
      "\u001b[0;31mNameError\u001b[0m: name 'group_job_df' is not defined"
     ]
    }
   ],
   "source": [
    "from pyspark.sql.functions import format_number, col\n",
    "\n",
    "# Let's start off with this. Just grouping by year and presenting the mean.\n",
    "group_year_df = df.groupBy('year').mean()\n",
    "group_year_df.show()\n",
    "\n",
    "# We can use format_number to reduce the total amount of decimals. \n",
    "# The number two represents the amount of decimals we want to be displayed.\n",
    "group_job_df = group_job_df.select('year',\n",
    "                                   format_number('avg(total visitor spend)',2),\n",
    "                                   format_number('avg(total visitors)',2))\n",
    "group_job_df.show()"
   ]
  },
  {
   "cell_type": "code",
   "execution_count": 36,
   "metadata": {},
   "outputs": [
    {
     "name": "stdout",
     "output_type": "stream",
     "text": [
      "+----+---------+------------------+------------------------+-------------------+\n",
      "|year|avg(Year)|      avg(Quarter)|avg(Total visitor spend)|avg(Total visitors)|\n",
      "+----+---------+------------------+------------------------+-------------------+\n",
      "|2003|   2003.0|               2.5|     5.135416301498114E7| 13634.035849056603|\n",
      "|2007|   2007.0|               2.5|     5.298485946447189E7| 15404.785211267606|\n",
      "|2018|   2018.0|               1.0|     7.026104768109676E7| 21725.135483870967|\n",
      "|2015|   2015.0|               2.5|     5.966558845162526E7| 18085.746268656716|\n",
      "|2006|   2006.0|2.5018050541516246|    5.0525060003616996E7| 15063.421985815603|\n",
      "|2013|   2013.0|               2.5|     4.421295895952306E7| 16116.270868824531|\n",
      "|1997|   1997.0|               4.0|    3.3225332315086212E7| 11587.715517241379|\n",
      "|2014|   2014.0|               2.5|    4.5876300145355344E7| 16643.788429752065|\n",
      "|2004|   2004.0|               2.5|     5.061080516626356E7| 14528.119133574008|\n",
      "|1998|   1998.0|               2.5|     3.337081881656781E7| 11144.726694915254|\n",
      "|2012|   2012.0|               2.5|     4.798585044400364E7| 16995.919561243143|\n",
      "|2009|   2009.0|               2.5|     5.190624087116069E7| 15241.976785714285|\n",
      "|2016|   2016.0|               2.5|     6.521579256804176E7| 19415.967897271268|\n",
      "|2001|   2001.0|               2.5|     4.976810450179791E7| 13240.630303030302|\n",
      "|2005|   2005.0| 2.498199279711885|     4.997174125759929E7|  15385.70938628159|\n",
      "|2000|   2000.0|               2.5|     4.417984847773549E7| 12080.985971943888|\n",
      "|2010|   2010.0|               2.5|     4.856393815116903E7|  15933.99820143885|\n",
      "|2011|   2011.0|               2.5|     4.779925427113716E7| 16327.361010830326|\n",
      "|2008|   2008.0|               2.5|    5.2318622948958404E7| 15208.916666666666|\n",
      "|2017|   2017.0|               2.5|       6.8630243621897E7| 21632.174708818635|\n",
      "+----+---------+------------------+------------------------+-------------------+\n",
      "only showing top 20 rows\n",
      "\n",
      "+----+------------------------------------------+-------------------------------------+\n",
      "|year|format_number(avg(total visitor spend), 2)|format_number(avg(total visitors), 2)|\n",
      "+----+------------------------------------------+-------------------------------------+\n",
      "|2003|                             51,354,163.01|                            13,634.04|\n",
      "|2007|                             52,984,859.46|                            15,404.79|\n",
      "|2018|                             70,261,047.68|                            21,725.14|\n",
      "|2015|                             59,665,588.45|                            18,085.75|\n",
      "|2006|                             50,525,060.00|                            15,063.42|\n",
      "|2013|                             44,212,958.96|                            16,116.27|\n",
      "|1997|                             33,225,332.32|                            11,587.72|\n",
      "|2014|                             45,876,300.15|                            16,643.79|\n",
      "|2004|                             50,610,805.17|                            14,528.12|\n",
      "|1998|                             33,370,818.82|                            11,144.73|\n",
      "|2012|                             47,985,850.44|                            16,995.92|\n",
      "|2009|                             51,906,240.87|                            15,241.98|\n",
      "|2016|                             65,215,792.57|                            19,415.97|\n",
      "|2001|                             49,768,104.50|                            13,240.63|\n",
      "|2005|                             49,971,741.26|                            15,385.71|\n",
      "|2000|                             44,179,848.48|                            12,080.99|\n",
      "|2010|                             48,563,938.15|                            15,934.00|\n",
      "|2011|                             47,799,254.27|                            16,327.36|\n",
      "|2008|                             52,318,622.95|                            15,208.92|\n",
      "|2017|                             68,630,243.62|                            21,632.17|\n",
      "+----+------------------------------------------+-------------------------------------+\n",
      "only showing top 20 rows\n",
      "\n"
     ]
    }
   ],
   "source": [
    "from pyspark.sql.functions import format_number, col\n",
    "\n",
    "# Let's start off with this. Just grouping by year and presenting the mean.\n",
    "group_year_df = df.groupBy('year').mean()\n",
    "group_year_df.show()\n",
    "\n",
    "# We can use format_number to reduce the total amount of decimals. \n",
    "# The number two represents the amount of decimals we want to be displayed.\n",
    "group_year_df = group_year_df.select('year',\n",
    "                                   format_number('avg(total visitor spend)',2),\n",
    "                                   format_number('avg(total visitors)',2))\n",
    "group_year_df.show()"
   ]
  },
  {
   "cell_type": "code",
   "execution_count": 37,
   "metadata": {},
   "outputs": [
    {
     "name": "stdout",
     "output_type": "stream",
     "text": [
      "+----+----------------+----------------+\n",
      "|Year|Average Spending|Average Visitors|\n",
      "+----+----------------+----------------+\n",
      "|2003|   51,354,163.01|       13,634.04|\n",
      "|2007|   52,984,859.46|       15,404.79|\n",
      "|2018|   70,261,047.68|       21,725.14|\n",
      "|2015|   59,665,588.45|       18,085.75|\n",
      "|2006|   50,525,060.00|       15,063.42|\n",
      "|2013|   44,212,958.96|       16,116.27|\n",
      "|1997|   33,225,332.32|       11,587.72|\n",
      "|2014|   45,876,300.15|       16,643.79|\n",
      "|2004|   50,610,805.17|       14,528.12|\n",
      "|1998|   33,370,818.82|       11,144.73|\n",
      "|2012|   47,985,850.44|       16,995.92|\n",
      "|2009|   51,906,240.87|       15,241.98|\n",
      "|2016|   65,215,792.57|       19,415.97|\n",
      "|2001|   49,768,104.50|       13,240.63|\n",
      "|2005|   49,971,741.26|       15,385.71|\n",
      "|2000|   44,179,848.48|       12,080.99|\n",
      "|2010|   48,563,938.15|       15,934.00|\n",
      "|2011|   47,799,254.27|       16,327.36|\n",
      "|2008|   52,318,622.95|       15,208.92|\n",
      "|2017|   68,630,243.62|       21,632.17|\n",
      "+----+----------------+----------------+\n",
      "only showing top 20 rows\n",
      "\n",
      "Average Spending and Visitors by Year\n",
      "+----+----------------+----------------+\n",
      "|Year|Average Spending|Average Visitors|\n",
      "+----+----------------+----------------+\n",
      "|1997|   33,225,332.32|       11,587.72|\n",
      "|1998|   33,370,818.82|       11,144.73|\n",
      "|1999|   38,722,678.20|       11,566.20|\n",
      "|2000|   44,179,848.48|       12,080.99|\n",
      "|2001|   49,768,104.50|       13,240.63|\n",
      "|2002|   55,204,791.13|       13,607.51|\n",
      "|2003|   51,354,163.01|       13,634.04|\n",
      "|2004|   50,610,805.17|       14,528.12|\n",
      "|2005|   49,971,741.26|       15,385.71|\n",
      "|2006|   50,525,060.00|       15,063.42|\n",
      "|2007|   52,984,859.46|       15,404.79|\n",
      "|2008|   52,318,622.95|       15,208.92|\n",
      "|2009|   51,906,240.87|       15,241.98|\n",
      "|2010|   48,563,938.15|       15,934.00|\n",
      "|2011|   47,799,254.27|       16,327.36|\n",
      "|2012|   47,985,850.44|       16,995.92|\n",
      "|2013|   44,212,958.96|       16,116.27|\n",
      "|2014|   45,876,300.15|       16,643.79|\n",
      "|2015|   59,665,588.45|       18,085.75|\n",
      "|2016|   65,215,792.57|       19,415.97|\n",
      "+----+----------------+----------------+\n",
      "only showing top 20 rows\n",
      "\n"
     ]
    }
   ],
   "source": [
    "# But now the column names look quite unprofessional. We can assign an alias to rename each of them.\n",
    "group_year_df = group_year_df.select(col('year').alias('Year'),\n",
    "                                   col('format_number(avg(total visitor spend), 2)').alias('Average Spending'),\n",
    "                                   col('format_number(avg(total visitors), 2)').alias('Average Visitors'))\n",
    "group_year_df.show()\n",
    "\n",
    "# Finally, let's sort the DataFrame by age.\n",
    "group_year_df = group_year_df.orderBy('Year')\n",
    "\n",
    "print('Average Spending and Visitors by Year')\n",
    "group_year_df.show()"
   ]
  },
  {
   "cell_type": "code",
   "execution_count": null,
   "metadata": {},
   "outputs": [],
   "source": []
  }
 ],
 "metadata": {
  "kernelspec": {
   "display_name": "Python 3",
   "language": "python",
   "name": "python3"
  },
  "language_info": {
   "codemirror_mode": {
    "name": "ipython",
    "version": 3
   },
   "file_extension": ".py",
   "mimetype": "text/x-python",
   "name": "python",
   "nbconvert_exporter": "python",
   "pygments_lexer": "ipython3",
   "version": "3.5.2"
  }
 },
 "nbformat": 4,
 "nbformat_minor": 2
}
