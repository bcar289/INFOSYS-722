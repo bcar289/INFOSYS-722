{
 "cells": [
  {
   "cell_type": "code",
   "execution_count": 28,
   "metadata": {},
   "outputs": [],
   "source": [
    "# Section must be included at the beginning of each new notebook. Remember to change the app name. \n",
    "# If you're using VirtualBox, change the below to '/home/user/spark-2.1.1-bin-hadoop2.7'\n",
    "import findspark\n",
    "findspark.init('/home/ubuntu/spark-2.1.1-bin-hadoop2.7')\n",
    "import pyspark\n",
    "from pyspark.sql import SparkSession\n",
    "spark = SparkSession.builder.appName('missing').getOrCreate()"
   ]
  },
  {
   "cell_type": "code",
   "execution_count": 29,
   "metadata": {},
   "outputs": [
    {
     "name": "stdout",
     "output_type": "stream",
     "text": [
      "+----+----+-------+-----------+--------------------+------------------+------------------------------+-------------------+--------------+\n",
      "|Pkey|Year|Quarter|Year ending|Airport of departure|  Purpose of visit|Country of permanent residence|Total visitor spend|Total visitors|\n",
      "+----+----+-------+-----------+--------------------+------------------+------------------------------+-------------------+--------------+\n",
      "|   1|1997|      4| YEDec 1997|            Auckland|          Business|          Africa and Middle...|         4266524.07|          1684|\n",
      "|   2|1997|      4| YEDec 1997|            Auckland|          Business|                     Australia|      1.325885058E8|         67277|\n",
      "|   3|1997|      4| YEDec 1997|            Auckland|          Business|                        Canada|      1.558969421E7|          3596|\n",
      "|   4|1997|      4| YEDec 1997|            Auckland|          Business|                         China|         9490117.52|          4510|\n",
      "|   5|1997|      4| YEDec 1997|            Auckland|          Business|                       Germany|         5481105.51|          1889|\n",
      "|   6|1997|      4| YEDec 1997|            Auckland|          Business|                         Japan|      3.556964314E7|          8381|\n",
      "|   7|1997|      4| YEDec 1997|            Auckland|          Business|            Korea, Republic of|         6247531.69|          3519|\n",
      "|   8|1997|      4| YEDec 1997|            Auckland|          Business|              Rest of Americas|          191980.36|           424|\n",
      "|   9|1997|      4| YEDec 1997|            Auckland|          Business|                  Rest of Asia|       2.45432304E7|          9194|\n",
      "|  10|1997|      4| YEDec 1997|            Auckland|          Business|                Rest of Europe|       1.79347973E7|          6677|\n",
      "|  11|1997|      4| YEDec 1997|            Auckland|          Business|               Rest of Oceania|      1.201545776E7|          5959|\n",
      "|  12|1997|      4| YEDec 1997|            Auckland|          Business|                            UK|      2.280761665E7|          8460|\n",
      "|  13|1997|      4| YEDec 1997|            Auckland|          Business|                           USA|      4.448590835E7|         16559|\n",
      "|  14|1997|      4| YEDec 1997|            Auckland|Holiday / vacation|          Africa and Middle...|         5.292394E7|         16699|\n",
      "|  15|1997|      4| YEDec 1997|            Auckland|Holiday / vacation|                     Australia|       1.80850204E8|         84411|\n",
      "|  16|1997|      4| YEDec 1997|            Auckland|Holiday / vacation|                        Canada|      3.090026303E7|         12306|\n",
      "|  17|1997|      4| YEDec 1997|            Auckland|Holiday / vacation|                         China|      1.075575762E7|          4331|\n",
      "|  18|1997|      4| YEDec 1997|            Auckland|Holiday / vacation|                       Germany|      1.001301535E8|         26974|\n",
      "|  19|1997|      4| YEDec 1997|            Auckland|Holiday / vacation|                         Japan|      4.572746316E8|        114330|\n",
      "|  20|1997|      4| YEDec 1997|            Auckland|Holiday / vacation|            Korea, Republic of|      1.582283085E8|         81217|\n",
      "+----+----+-------+-----------+--------------------+------------------+------------------------------+-------------------+--------------+\n",
      "only showing top 20 rows\n",
      "\n",
      "Total data points: 17056\n"
     ]
    }
   ],
   "source": [
    "# Importing data which has a header and automatically configuring the schema.\n",
    "df = spark.read.csv('Datasets/IVS_Country.csv', header=True, inferSchema=True)\n",
    "\n",
    "# Let's visually inspect the data. You may notice some nulls in the total visitor spend and total visitors column. \n",
    "df.show()\n",
    "\n",
    "# Let's see how many rows of data we originally have.\n",
    "print(\"Total data points:\", df.count())"
   ]
  },
  {
   "cell_type": "code",
   "execution_count": 30,
   "metadata": {},
   "outputs": [
    {
     "name": "stdout",
     "output_type": "stream",
     "text": [
      "+----+----+-------+-----------+--------------------+------------------+------------------------------+-------------------+--------------+\n",
      "|Pkey|Year|Quarter|Year ending|Airport of departure|  Purpose of visit|Country of permanent residence|Total visitor spend|Total visitors|\n",
      "+----+----+-------+-----------+--------------------+------------------+------------------------------+-------------------+--------------+\n",
      "|   1|1997|      4| YEDec 1997|            Auckland|          Business|          Africa and Middle...|         4266524.07|          1684|\n",
      "|   2|1997|      4| YEDec 1997|            Auckland|          Business|                     Australia|      1.325885058E8|         67277|\n",
      "|   3|1997|      4| YEDec 1997|            Auckland|          Business|                        Canada|      1.558969421E7|          3596|\n",
      "|   4|1997|      4| YEDec 1997|            Auckland|          Business|                         China|         9490117.52|          4510|\n",
      "|   5|1997|      4| YEDec 1997|            Auckland|          Business|                       Germany|         5481105.51|          1889|\n",
      "|   6|1997|      4| YEDec 1997|            Auckland|          Business|                         Japan|      3.556964314E7|          8381|\n",
      "|   7|1997|      4| YEDec 1997|            Auckland|          Business|            Korea, Republic of|         6247531.69|          3519|\n",
      "|   8|1997|      4| YEDec 1997|            Auckland|          Business|              Rest of Americas|          191980.36|           424|\n",
      "|   9|1997|      4| YEDec 1997|            Auckland|          Business|                  Rest of Asia|       2.45432304E7|          9194|\n",
      "|  10|1997|      4| YEDec 1997|            Auckland|          Business|                Rest of Europe|       1.79347973E7|          6677|\n",
      "|  11|1997|      4| YEDec 1997|            Auckland|          Business|               Rest of Oceania|      1.201545776E7|          5959|\n",
      "|  12|1997|      4| YEDec 1997|            Auckland|          Business|                            UK|      2.280761665E7|          8460|\n",
      "|  13|1997|      4| YEDec 1997|            Auckland|          Business|                           USA|      4.448590835E7|         16559|\n",
      "|  14|1997|      4| YEDec 1997|            Auckland|Holiday / vacation|          Africa and Middle...|         5.292394E7|         16699|\n",
      "|  15|1997|      4| YEDec 1997|            Auckland|Holiday / vacation|                     Australia|       1.80850204E8|         84411|\n",
      "|  16|1997|      4| YEDec 1997|            Auckland|Holiday / vacation|                        Canada|      3.090026303E7|         12306|\n",
      "|  17|1997|      4| YEDec 1997|            Auckland|Holiday / vacation|                         China|      1.075575762E7|          4331|\n",
      "|  18|1997|      4| YEDec 1997|            Auckland|Holiday / vacation|                       Germany|      1.001301535E8|         26974|\n",
      "|  19|1997|      4| YEDec 1997|            Auckland|Holiday / vacation|                         Japan|      4.572746316E8|        114330|\n",
      "|  20|1997|      4| YEDec 1997|            Auckland|Holiday / vacation|            Korea, Republic of|      1.582283085E8|         81217|\n",
      "+----+----+-------+-----------+--------------------+------------------+------------------------------+-------------------+--------------+\n",
      "only showing top 20 rows\n",
      "\n",
      "Total data points: 17056\n"
     ]
    }
   ],
   "source": [
    "# 'na' stands for Not Available. Using na, we can then use drop. \n",
    "# After using show, you'll find that the rows with the null values are gone. \n",
    "df.na.drop().show()\n",
    "\n",
    "# Let's see how many rows of data we have now. \n",
    "print(\"Total data points:\", df.count())"
   ]
  },
  {
   "cell_type": "code",
   "execution_count": null,
   "metadata": {},
   "outputs": [],
   "source": []
  },
  {
   "cell_type": "code",
   "execution_count": 31,
   "metadata": {},
   "outputs": [
    {
     "name": "stdout",
     "output_type": "stream",
     "text": [
      "+----+----+-------+-----------+--------------------+----------------+------------------------------+-------------------+--------------+\n",
      "|Pkey|Year|Quarter|Year ending|Airport of departure|Purpose of visit|Country of permanent residence|Total visitor spend|Total visitors|\n",
      "+----+----+-------+-----------+--------------------+----------------+------------------------------+-------------------+--------------+\n",
      "|  55|1997|      4| YEDec 1997|        Christchurch|        Business|                        Canada|               null|          null|\n",
      "+----+----+-------+-----------+--------------------+----------------+------------------------------+-------------------+--------------+\n",
      "\n"
     ]
    }
   ],
   "source": [
    "df.filter(\"pkey=55\").show()"
   ]
  },
  {
   "cell_type": "code",
   "execution_count": 33,
   "metadata": {},
   "outputs": [
    {
     "name": "stdout",
     "output_type": "stream",
     "text": [
      "+----+----+-------+-----------+--------------------+------------------+------------------------------+-------------------+--------------+\n",
      "|Pkey|Year|Quarter|Year ending|Airport of departure|  Purpose of visit|Country of permanent residence|Total visitor spend|Total visitors|\n",
      "+----+----+-------+-----------+--------------------+------------------+------------------------------+-------------------+--------------+\n",
      "|   1|1997|      4| YEDec 1997|            Auckland|          Business|          Africa and Middle...|         4266524.07|          1684|\n",
      "|   2|1997|      4| YEDec 1997|            Auckland|          Business|                     Australia|      1.325885058E8|         67277|\n",
      "|   3|1997|      4| YEDec 1997|            Auckland|          Business|                        Canada|      1.558969421E7|          3596|\n",
      "|   4|1997|      4| YEDec 1997|            Auckland|          Business|                         China|         9490117.52|          4510|\n",
      "|   5|1997|      4| YEDec 1997|            Auckland|          Business|                       Germany|         5481105.51|          1889|\n",
      "|   6|1997|      4| YEDec 1997|            Auckland|          Business|                         Japan|      3.556964314E7|          8381|\n",
      "|   7|1997|      4| YEDec 1997|            Auckland|          Business|            Korea, Republic of|         6247531.69|          3519|\n",
      "|   8|1997|      4| YEDec 1997|            Auckland|          Business|              Rest of Americas|          191980.36|           424|\n",
      "|   9|1997|      4| YEDec 1997|            Auckland|          Business|                  Rest of Asia|       2.45432304E7|          9194|\n",
      "|  10|1997|      4| YEDec 1997|            Auckland|          Business|                Rest of Europe|       1.79347973E7|          6677|\n",
      "|  11|1997|      4| YEDec 1997|            Auckland|          Business|               Rest of Oceania|      1.201545776E7|          5959|\n",
      "|  12|1997|      4| YEDec 1997|            Auckland|          Business|                            UK|      2.280761665E7|          8460|\n",
      "|  13|1997|      4| YEDec 1997|            Auckland|          Business|                           USA|      4.448590835E7|         16559|\n",
      "|  14|1997|      4| YEDec 1997|            Auckland|Holiday / vacation|          Africa and Middle...|         5.292394E7|         16699|\n",
      "|  15|1997|      4| YEDec 1997|            Auckland|Holiday / vacation|                     Australia|       1.80850204E8|         84411|\n",
      "|  16|1997|      4| YEDec 1997|            Auckland|Holiday / vacation|                        Canada|      3.090026303E7|         12306|\n",
      "|  17|1997|      4| YEDec 1997|            Auckland|Holiday / vacation|                         China|      1.075575762E7|          4331|\n",
      "|  18|1997|      4| YEDec 1997|            Auckland|Holiday / vacation|                       Germany|      1.001301535E8|         26974|\n",
      "|  19|1997|      4| YEDec 1997|            Auckland|Holiday / vacation|                         Japan|      4.572746316E8|        114330|\n",
      "|  20|1997|      4| YEDec 1997|            Auckland|Holiday / vacation|            Korea, Republic of|      1.582283085E8|         81217|\n",
      "+----+----+-------+-----------+--------------------+------------------+------------------------------+-------------------+--------------+\n",
      "only showing top 20 rows\n",
      "\n",
      "Total data points: 11292\n"
     ]
    }
   ],
   "source": [
    "# Oops! Forgot to assign the result to a variable. Let's try that again. Now you can see that records with null values have been removed.\n",
    "dropped_df = df.na.drop()\n",
    "dropped_df.show()\n",
    "print(\"Total data points:\", dropped_df.count())"
   ]
  },
  {
   "cell_type": "code",
   "execution_count": null,
   "metadata": {},
   "outputs": [],
   "source": []
  }
 ],
 "metadata": {
  "kernelspec": {
   "display_name": "Python 3",
   "language": "python",
   "name": "python3"
  },
  "language_info": {
   "codemirror_mode": {
    "name": "ipython",
    "version": 3
   },
   "file_extension": ".py",
   "mimetype": "text/x-python",
   "name": "python",
   "nbconvert_exporter": "python",
   "pygments_lexer": "ipython3",
   "version": "3.5.2"
  }
 },
 "nbformat": 4,
 "nbformat_minor": 2
}
