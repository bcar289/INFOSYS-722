{
 "cells": [
  {
   "cell_type": "code",
   "execution_count": 2,
   "metadata": {},
   "outputs": [],
   "source": [
    "# Section must be included at the beginning of each new notebook. Remember to change the app name.\n",
    "# If you're using VirtualBox, change the below to '/home/user/spark-2.1.1-bin-hadoop2.7'\n",
    "import findspark\n",
    "findspark.init('/home/ubuntu/spark-2.1.1-bin-hadoop2.7')\n",
    "import pyspark\n",
    "from pyspark.sql import SparkSession\n",
    "spark = SparkSession.builder.appName('linear_regression_adv').getOrCreate()\n",
    "\n",
    "# If you're getting an error with numpy, please type 'sudo pip3 install numpy --user' into the console.\n",
    "# If you're getting an error with another package, type 'sudo pip3 install PACKAGENAME --user'. \n",
    "# Replace PACKAGENAME with the relevant package (such as pandas, etc).\n",
    "from pyspark.ml.regression import LinearRegression\n",
    "\n",
    "# First, let's import the data. Note that we can infer the schema as it's a CSV file.\n",
    "df = spark.read.csv(\"Datasets/IVS_Country.csv\",inferSchema=True,header=True)"
   ]
  },
  {
   "cell_type": "code",
   "execution_count": 3,
   "metadata": {},
   "outputs": [
    {
     "name": "stdout",
     "output_type": "stream",
     "text": [
      "Row(Pkey=1, Year=1997, Quarter=4, Year ending='YEDec 1997', Airport of departure='Auckland', Purpose of visit='Business', Country of permanent residence='Africa and Middle East', Total visitor spend=4266524.07, Total visitors=1684)\n",
      "root\n",
      " |-- Pkey: integer (nullable = true)\n",
      " |-- Year: integer (nullable = true)\n",
      " |-- Quarter: integer (nullable = true)\n",
      " |-- Year ending: string (nullable = true)\n",
      " |-- Airport of departure: string (nullable = true)\n",
      " |-- Purpose of visit: string (nullable = true)\n",
      " |-- Country of permanent residence: string (nullable = true)\n",
      " |-- Total visitor spend: double (nullable = true)\n",
      " |-- Total visitors: integer (nullable = true)\n",
      "\n"
     ]
    }
   ],
   "source": [
    "# Let's explore. Here's the first row of the data.\n",
    "print(df.head())\n",
    "\n",
    "# And the entire data structure. \n",
    "df.printSchema()"
   ]
  },
  {
   "cell_type": "code",
   "execution_count": 4,
   "metadata": {},
   "outputs": [
    {
     "name": "stdout",
     "output_type": "stream",
     "text": [
      "+----+----+-------+-----------+--------------------+------------------+------------------------------+-------------------+--------------+\n",
      "|Pkey|Year|Quarter|Year ending|Airport of departure|  Purpose of visit|Country of permanent residence|Total visitor spend|Total visitors|\n",
      "+----+----+-------+-----------+--------------------+------------------+------------------------------+-------------------+--------------+\n",
      "|   1|1997|      4| YEDec 1997|            Auckland|          Business|          Africa and Middle...|         4266524.07|          1684|\n",
      "|   2|1997|      4| YEDec 1997|            Auckland|          Business|                     Australia|      1.325885058E8|         67277|\n",
      "|   3|1997|      4| YEDec 1997|            Auckland|          Business|                        Canada|      1.558969421E7|          3596|\n",
      "|   4|1997|      4| YEDec 1997|            Auckland|          Business|                         China|         9490117.52|          4510|\n",
      "|   5|1997|      4| YEDec 1997|            Auckland|          Business|                       Germany|         5481105.51|          1889|\n",
      "|   6|1997|      4| YEDec 1997|            Auckland|          Business|                         Japan|      3.556964314E7|          8381|\n",
      "|   7|1997|      4| YEDec 1997|            Auckland|          Business|            Korea, Republic of|         6247531.69|          3519|\n",
      "|   8|1997|      4| YEDec 1997|            Auckland|          Business|              Rest of Americas|          191980.36|           424|\n",
      "|   9|1997|      4| YEDec 1997|            Auckland|          Business|                  Rest of Asia|       2.45432304E7|          9194|\n",
      "|  10|1997|      4| YEDec 1997|            Auckland|          Business|                Rest of Europe|       1.79347973E7|          6677|\n",
      "|  11|1997|      4| YEDec 1997|            Auckland|          Business|               Rest of Oceania|      1.201545776E7|          5959|\n",
      "|  12|1997|      4| YEDec 1997|            Auckland|          Business|                            UK|      2.280761665E7|          8460|\n",
      "|  13|1997|      4| YEDec 1997|            Auckland|          Business|                           USA|      4.448590835E7|         16559|\n",
      "|  14|1997|      4| YEDec 1997|            Auckland|Holiday / vacation|          Africa and Middle...|         5.292394E7|         16699|\n",
      "|  15|1997|      4| YEDec 1997|            Auckland|Holiday / vacation|                     Australia|       1.80850204E8|         84411|\n",
      "|  16|1997|      4| YEDec 1997|            Auckland|Holiday / vacation|                        Canada|      3.090026303E7|         12306|\n",
      "|  17|1997|      4| YEDec 1997|            Auckland|Holiday / vacation|                         China|      1.075575762E7|          4331|\n",
      "|  18|1997|      4| YEDec 1997|            Auckland|Holiday / vacation|                       Germany|      1.001301535E8|         26974|\n",
      "|  19|1997|      4| YEDec 1997|            Auckland|Holiday / vacation|                         Japan|      4.572746316E8|        114330|\n",
      "|  20|1997|      4| YEDec 1997|            Auckland|Holiday / vacation|            Korea, Republic of|      1.582283085E8|         81217|\n",
      "+----+----+-------+-----------+--------------------+------------------+------------------------------+-------------------+--------------+\n",
      "only showing top 20 rows\n",
      "\n",
      "Total data points: 11292\n"
     ]
    }
   ],
   "source": [
    "# Oops! Forgot to assign the result to a variable. Let's try that again. Now you can see that records with null values have been removed.\n",
    "df = df.na.drop()\n",
    "df.show()\n",
    "print(\"Total data points:\", df.count())"
   ]
  },
  {
   "cell_type": "code",
   "execution_count": 5,
   "metadata": {},
   "outputs": [
    {
     "data": {
      "text/html": [
       "<div>\n",
       "<style scoped>\n",
       "    .dataframe tbody tr th:only-of-type {\n",
       "        vertical-align: middle;\n",
       "    }\n",
       "\n",
       "    .dataframe tbody tr th {\n",
       "        vertical-align: top;\n",
       "    }\n",
       "\n",
       "    .dataframe thead th {\n",
       "        text-align: right;\n",
       "    }\n",
       "</style>\n",
       "<table border=\"1\" class=\"dataframe\">\n",
       "  <thead>\n",
       "    <tr style=\"text-align: right;\">\n",
       "      <th></th>\n",
       "      <th>0</th>\n",
       "      <th>1</th>\n",
       "      <th>2</th>\n",
       "      <th>3</th>\n",
       "      <th>4</th>\n",
       "    </tr>\n",
       "  </thead>\n",
       "  <tbody>\n",
       "    <tr>\n",
       "      <th>summary</th>\n",
       "      <td>count</td>\n",
       "      <td>mean</td>\n",
       "      <td>stddev</td>\n",
       "      <td>min</td>\n",
       "      <td>max</td>\n",
       "    </tr>\n",
       "    <tr>\n",
       "      <th>Pkey</th>\n",
       "      <td>11292</td>\n",
       "      <td>8609.705897980872</td>\n",
       "      <td>4917.03995600964</td>\n",
       "      <td>1</td>\n",
       "      <td>17056</td>\n",
       "    </tr>\n",
       "    <tr>\n",
       "      <th>Year</th>\n",
       "      <td>11292</td>\n",
       "      <td>2007.9382748848743</td>\n",
       "      <td>5.880289393162935</td>\n",
       "      <td>1997</td>\n",
       "      <td>2018</td>\n",
       "    </tr>\n",
       "    <tr>\n",
       "      <th>Quarter</th>\n",
       "      <td>11292</td>\n",
       "      <td>2.4991144172865747</td>\n",
       "      <td>1.1292752985276613</td>\n",
       "      <td>1</td>\n",
       "      <td>4</td>\n",
       "    </tr>\n",
       "    <tr>\n",
       "      <th>Year ending</th>\n",
       "      <td>11292</td>\n",
       "      <td>None</td>\n",
       "      <td>None</td>\n",
       "      <td>YEDec 1997</td>\n",
       "      <td>YESep 2017</td>\n",
       "    </tr>\n",
       "    <tr>\n",
       "      <th>Airport of departure</th>\n",
       "      <td>11292</td>\n",
       "      <td>None</td>\n",
       "      <td>None</td>\n",
       "      <td>Auckland</td>\n",
       "      <td>Wellington</td>\n",
       "    </tr>\n",
       "    <tr>\n",
       "      <th>Purpose of visit</th>\n",
       "      <td>11292</td>\n",
       "      <td>None</td>\n",
       "      <td>None</td>\n",
       "      <td>Business</td>\n",
       "      <td>Visiting friends / relatives</td>\n",
       "    </tr>\n",
       "    <tr>\n",
       "      <th>Country of permanent residence</th>\n",
       "      <td>11292</td>\n",
       "      <td>None</td>\n",
       "      <td>None</td>\n",
       "      <td>Africa and Middle East</td>\n",
       "      <td>USA</td>\n",
       "    </tr>\n",
       "    <tr>\n",
       "      <th>Total visitor spend</th>\n",
       "      <td>11292</td>\n",
       "      <td>5.09246119696264E7</td>\n",
       "      <td>1.0193863986366412E8</td>\n",
       "      <td>2.4</td>\n",
       "      <td>1.235333092E9</td>\n",
       "    </tr>\n",
       "    <tr>\n",
       "      <th>Total visitors</th>\n",
       "      <td>11292</td>\n",
       "      <td>15576.741232731138</td>\n",
       "      <td>33229.303734004156</td>\n",
       "      <td>1</td>\n",
       "      <td>314584</td>\n",
       "    </tr>\n",
       "  </tbody>\n",
       "</table>\n",
       "</div>"
      ],
      "text/plain": [
       "                                    0                   1  \\\n",
       "summary                         count                mean   \n",
       "Pkey                            11292   8609.705897980872   \n",
       "Year                            11292  2007.9382748848743   \n",
       "Quarter                         11292  2.4991144172865747   \n",
       "Year ending                     11292                None   \n",
       "Airport of departure            11292                None   \n",
       "Purpose of visit                11292                None   \n",
       "Country of permanent residence  11292                None   \n",
       "Total visitor spend             11292  5.09246119696264E7   \n",
       "Total visitors                  11292  15576.741232731138   \n",
       "\n",
       "                                                   2                       3  \\\n",
       "summary                                       stddev                     min   \n",
       "Pkey                                4917.03995600964                       1   \n",
       "Year                               5.880289393162935                    1997   \n",
       "Quarter                           1.1292752985276613                       1   \n",
       "Year ending                                     None              YEDec 1997   \n",
       "Airport of departure                            None                Auckland   \n",
       "Purpose of visit                                None                Business   \n",
       "Country of permanent residence                  None  Africa and Middle East   \n",
       "Total visitor spend             1.0193863986366412E8                     2.4   \n",
       "Total visitors                    33229.303734004156                       1   \n",
       "\n",
       "                                                           4  \n",
       "summary                                                  max  \n",
       "Pkey                                                   17056  \n",
       "Year                                                    2018  \n",
       "Quarter                                                    4  \n",
       "Year ending                                       YESep 2017  \n",
       "Airport of departure                              Wellington  \n",
       "Purpose of visit                Visiting friends / relatives  \n",
       "Country of permanent residence                           USA  \n",
       "Total visitor spend                            1.235333092E9  \n",
       "Total visitors                                        314584  "
      ]
     },
     "execution_count": 5,
     "metadata": {},
     "output_type": "execute_result"
    }
   ],
   "source": [
    "# Now that we understand the data's features, let's use a Python package to neatly describe the data.\n",
    "import pandas as pd\n",
    "df.describe().toPandas().transpose()"
   ]
  },
  {
   "cell_type": "code",
   "execution_count": 6,
   "metadata": {},
   "outputs": [
    {
     "name": "stdout",
     "output_type": "stream",
     "text": [
      "root\n",
      " |-- Pkey: integer (nullable = true)\n",
      " |-- Year: integer (nullable = true)\n",
      " |-- Quarter: integer (nullable = true)\n",
      " |-- Year ending: string (nullable = true)\n",
      " |-- Airport of departure: string (nullable = true)\n",
      " |-- Purpose of visit: string (nullable = true)\n",
      " |-- Country of permanent residence: string (nullable = true)\n",
      " |-- Total visitor spend: double (nullable = true)\n",
      " |-- Total visitors: integer (nullable = true)\n",
      " |-- features: vector (nullable = true)\n",
      "\n"
     ]
    },
    {
     "data": {
      "text/plain": [
       "[Row(Pkey=1, Year=1997, Quarter=4, Year ending='YEDec 1997', Airport of departure='Auckland', Purpose of visit='Business', Country of permanent residence='Africa and Middle East', Total visitor spend=4266524.07, Total visitors=1684, features=DenseVector([1.0, 1997.0, 4.0, 4266524.07]))]"
      ]
     },
     "execution_count": 6,
     "metadata": {},
     "output_type": "execute_result"
    }
   ],
   "source": [
    "# Import VectorAssembler and Vectors\n",
    "from pyspark.ml.feature import VectorAssembler\n",
    "\n",
    "# The input columns are the feature column names, and the output column is what you'd like the new column to be named. \n",
    "vector_assembler = VectorAssembler(inputCols = ['Pkey', 'Year', 'Quarter', 'Total visitor spend'], outputCol = 'features')\n",
    "\n",
    "# Now that we've created the assembler variable, let's actually transform the data.\n",
    "vector_output = vector_assembler.transform(df)\n",
    "\n",
    "# Using print schema, you see that the features output column has been added. \n",
    "vector_output.printSchema()\n",
    "\n",
    "# You can see that the features column is a DenseVector that combines the various features as expected.\n",
    "vector_output.head(1)"
   ]
  },
  {
   "cell_type": "code",
   "execution_count": 7,
   "metadata": {},
   "outputs": [
    {
     "name": "stdout",
     "output_type": "stream",
     "text": [
      "[Row(features=DenseVector([1.0, 1997.0, 4.0, 4266524.07]), Total visitors=1684)]\n",
      "+--------------------+--------------+\n",
      "|            features|Total visitors|\n",
      "+--------------------+--------------+\n",
      "|[1.0,1997.0,4.0,4...|          1684|\n",
      "|[2.0,1997.0,4.0,1...|         67277|\n",
      "|[3.0,1997.0,4.0,1...|          3596|\n",
      "+--------------------+--------------+\n",
      "only showing top 3 rows\n",
      "\n"
     ]
    }
   ],
   "source": [
    "# Because the features have been combined into one vector, we no longer need them. Below we select the features and label.\n",
    "vector_output = vector_output.select(['features', 'Total visitors'])\n",
    "\n",
    "# You can see that the dataframe now only contains two columns. \n",
    "print(vector_output.head(1))\n",
    "vector_output.show(3)"
   ]
  },
  {
   "cell_type": "code",
   "execution_count": 8,
   "metadata": {},
   "outputs": [
    {
     "name": "stdout",
     "output_type": "stream",
     "text": [
      "+-------+------------------+\n",
      "|summary|    Total visitors|\n",
      "+-------+------------------+\n",
      "|  count|              8023|\n",
      "|   mean|15655.657609373053|\n",
      "| stddev|33400.813257909685|\n",
      "|    min|                 1|\n",
      "|    max|            308902|\n",
      "+-------+------------------+\n",
      "\n",
      "+-------+------------------+\n",
      "|summary|    Total visitors|\n",
      "+-------+------------------+\n",
      "|  count|              3269|\n",
      "|   mean|15383.059345365555|\n",
      "| stddev| 32808.83990577565|\n",
      "|    min|                 6|\n",
      "|    max|            314584|\n",
      "+-------+------------------+\n",
      "\n"
     ]
    }
   ],
   "source": [
    "# Let's do a randomised 70/30 split. Remember, you should explain why you chose a particular split. \n",
    "train_data,test_data = vector_output.randomSplit([0.7,0.3])\n",
    "\n",
    "# Let's see our training data.\n",
    "train_data.describe().show()\n",
    "\n",
    "# And our testing data.\n",
    "test_data.describe().show()"
   ]
  },
  {
   "cell_type": "code",
   "execution_count": 9,
   "metadata": {},
   "outputs": [
    {
     "name": "stdout",
     "output_type": "stream",
     "text": [
      "Linear Regression Coefficients: [0.012650453572141177,149.71071031237923,-69.7279393382839,0.0002951025603517801]\n",
      "Linear Regression Intercept: -299977.8923485376\n",
      "\n",
      "Linear Regression RMSE on training data: 14224.414153961994\n",
      "Linear Regression R2 on training data: 0.8186118843779753\n"
     ]
    }
   ],
   "source": [
    "# Importing the LR package.\n",
    "from pyspark.ml.regression import LinearRegression\n",
    "\n",
    "# Instantiate the instance.\n",
    "lr = LinearRegression(featuresCol='features', labelCol='Total visitors')\n",
    "\n",
    "# Fit the training data.\n",
    "lr_model = lr.fit(train_data)\n",
    "\n",
    "# Print the coefficients.\n",
    "print(\"Linear Regression Coefficients: \" + str(lr_model.coefficients))\n",
    "\n",
    "# Print the intercept.\n",
    "print(\"Linear Regression Intercept: \" + str(lr_model.intercept) + \"\\n\")\n",
    "\n",
    "# Summarise the model and print out some evaluation metrics.\n",
    "training_summary = lr_model.summary\n",
    "\n",
    "# Print RMSE. \n",
    "print(\"Linear Regression RMSE on training data: \" + str(training_summary.rootMeanSquaredError))\n",
    "\n",
    "# Print R2.\n",
    "print(\"Linear Regression R2 on training data: \" + str(training_summary.r2))"
   ]
  },
  {
   "cell_type": "code",
   "execution_count": 15,
   "metadata": {},
   "outputs": [
    {
     "data": {
      "text/plain": [
       "Text(0,0.5,'Beta Coefficients')"
      ]
     },
     "execution_count": 15,
     "metadata": {},
     "output_type": "execute_result"
    },
    {
     "data": {
      "image/png": "[encoded data removed]",
      "text/plain": [
       "<Figure size 432x288 with 1 Axes>"
      ]
     },
     "metadata": {},
     "output_type": "display_data"
    }
   ],
   "source": [
    "import matplotlib.pyplot as plt\n",
    "import numpy as np\n",
    "\n",
    "# Visualising the coefficients. Sort from lowest to highest.\n",
    "beta = np.sort(lr_model.coefficients)\n",
    "\n",
    "# Plot the data.\n",
    "plt.plot(beta)\n",
    "\n",
    "# Add a label to the data.\n",
    "plt.ylabel('Beta Coefficients')\n"
   ]
  },
  {
   "cell_type": "code",
   "execution_count": 11,
   "metadata": {},
   "outputs": [
    {
     "name": "stdout",
     "output_type": "stream",
     "text": [
      "+-------+------------------+\n",
      "|summary|    Total visitors|\n",
      "+-------+------------------+\n",
      "|  count|              8023|\n",
      "|   mean|15655.657609373053|\n",
      "| stddev|33400.813257909685|\n",
      "|    min|                 1|\n",
      "|    max|            308902|\n",
      "+-------+------------------+\n",
      "\n"
     ]
    }
   ],
   "source": [
    "train_data.describe().show()"
   ]
  },
  {
   "cell_type": "code",
   "execution_count": 12,
   "metadata": {},
   "outputs": [
    {
     "name": "stdout",
     "output_type": "stream",
     "text": [
      "RMSE on test data: 14177.041407152425\n",
      "R2 on test data: 0.8132234540981986\n"
     ]
    }
   ],
   "source": [
    "# Let's evaluate the model against the test data.\n",
    "test_results = lr_model.evaluate(test_data)\n",
    "\n",
    "# And print the RMSE/R2. As expected, our RMSE and R2 are slightly worse when applying the testing set.\n",
    "print(\"RMSE on test data: \" + str(test_results.rootMeanSquaredError))\n",
    "print(\"R2 on test data: \" + str(test_results.r2))"
   ]
  },
  {
   "cell_type": "code",
   "execution_count": null,
   "metadata": {},
   "outputs": [],
   "source": []
  }
 ],
 "metadata": {
  "kernelspec": {
   "display_name": "Python 3",
   "language": "python",
   "name": "python3"
  },
  "language_info": {
   "codemirror_mode": {
    "name": "ipython",
    "version": 3
   },
   "file_extension": ".py",
   "mimetype": "text/x-python",
   "name": "python",
   "nbconvert_exporter": "python",
   "pygments_lexer": "ipython3",
   "version": "3.5.2"
  }
 },
 "nbformat": 4,
 "nbformat_minor": 2
}
