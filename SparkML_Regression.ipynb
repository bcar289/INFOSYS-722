{
 "cells": [
  {
   "cell_type": "code",
   "execution_count": 233,
   "metadata": {},
   "outputs": [],
   "source": [
    "# Section must be included at the beginning of each new notebook. Remember to change the app name.\n",
    "# If you're using VirtualBox, change the below to '/home/user/spark-2.1.1-bin-hadoop2.7'\n",
    "import findspark\n",
    "findspark.init('/home/ubuntu/spark-2.1.1-bin-hadoop2.7')\n",
    "import pyspark\n",
    "from pyspark.sql import SparkSession\n",
    "spark = SparkSession.builder.appName('linear_regression_adv').getOrCreate()\n",
    "\n",
    "# If you're getting an error with numpy, please type 'sudo pip3 install numpy --user' into the console.\n",
    "# If you're getting an error with another package, type 'sudo pip3 install PACKAGENAME --user'. \n",
    "# Replace PACKAGENAME with the relevant package (such as pandas, etc).\n",
    "from pyspark.ml.regression import LinearRegression\n",
    "\n",
    "# First, let's import the data. Note that we can infer the schema as it's a CSV file.\n",
    "df_country = spark.read.csv(\"Datasets/IVS_Country.csv\",inferSchema=True,header=True)\n",
    "df_agegroup = spark.read.csv(\"Datasets/IVS_AgeGroup.csv\",inferSchema=True,header=True)\n",
    "df_accomodation = spark.read.csv(\"Datasets/IVS_Accomodation.csv\",inferSchema=True,header=True)"
   ]
  },
  {
   "cell_type": "code",
   "execution_count": 234,
   "metadata": {},
   "outputs": [
    {
     "name": "stdout",
     "output_type": "stream",
     "text": [
      "Row(Pkey=1, Year=1997, Quarter=4, Year ending='YEDec 1997', Airport of departure='Auckland', Purpose of visit='Business', Country of permanent residence='Africa and Middle East', Total visitor spend=4266524.07, Total visitors=1684)\n",
      "root\n",
      " |-- Pkey: integer (nullable = true)\n",
      " |-- Year: integer (nullable = true)\n",
      " |-- Quarter: integer (nullable = true)\n",
      " |-- Year ending: string (nullable = true)\n",
      " |-- Airport of departure: string (nullable = true)\n",
      " |-- Purpose of visit: string (nullable = true)\n",
      " |-- Country of permanent residence: string (nullable = true)\n",
      " |-- Total visitor spend: double (nullable = true)\n",
      " |-- Total visitors: integer (nullable = true)\n",
      "\n"
     ]
    }
   ],
   "source": [
    "# Let's explore. Here's the first row of the data.\n",
    "print(df_country.head())\n",
    "\n",
    "# And the entire data structure. \n",
    "df_country.printSchema()"
   ]
  },
  {
   "cell_type": "code",
   "execution_count": 235,
   "metadata": {},
   "outputs": [
    {
     "name": "stdout",
     "output_type": "stream",
     "text": [
      "Row(Pkey=1, Year=1997, Quarter=4, Year ending='YEDec 1997', Airport of departure='Auckland', Purpose of visit='Business', Age band='20 - 24', Total visitor spend=6588341.03, Total visitors=2394)\n",
      "root\n",
      " |-- Pkey: integer (nullable = true)\n",
      " |-- Year: integer (nullable = true)\n",
      " |-- Quarter: integer (nullable = true)\n",
      " |-- Year ending: string (nullable = true)\n",
      " |-- Airport of departure: string (nullable = true)\n",
      " |-- Purpose of visit: string (nullable = true)\n",
      " |-- Age band: string (nullable = true)\n",
      " |-- Total visitor spend: double (nullable = true)\n",
      " |-- Total visitors: integer (nullable = true)\n",
      "\n"
     ]
    }
   ],
   "source": [
    "# Let's explore. Here's the first row of the data.\n",
    "print(df_agegroup.head())\n",
    "\n",
    "# And the entire data structure. \n",
    "df_agegroup.printSchema()"
   ]
  },
  {
   "cell_type": "code",
   "execution_count": 236,
   "metadata": {},
   "outputs": [
    {
     "name": "stdout",
     "output_type": "stream",
     "text": [
      "Row(Pkey=1, Year=1997, Quarter=4, Year ending='YEDec 1997', Main accommodation used='  A house you own', Total visitors=None)\n",
      "root\n",
      " |-- Pkey: integer (nullable = true)\n",
      " |-- Year: integer (nullable = true)\n",
      " |-- Quarter: integer (nullable = true)\n",
      " |-- Year ending: string (nullable = true)\n",
      " |-- Main accommodation used: string (nullable = true)\n",
      " |-- Total visitors: integer (nullable = true)\n",
      "\n"
     ]
    }
   ],
   "source": [
    "# Let's explore. Here's the first row of the data.\n",
    "print(df_accomodation.head())\n",
    "\n",
    "# And the entire data structure. \n",
    "df_accomodation.printSchema()"
   ]
  },
  {
   "cell_type": "code",
   "execution_count": 237,
   "metadata": {},
   "outputs": [
    {
     "name": "stdout",
     "output_type": "stream",
     "text": [
      "Total data points: 22\n",
      "+----+-----+\n",
      "|Year|count|\n",
      "+----+-----+\n",
      "|2018|  208|\n",
      "|1997|  208|\n",
      "|2003|  832|\n",
      "|2007|  832|\n",
      "|2013|  832|\n",
      "|2015|  832|\n",
      "|2006|  832|\n",
      "|2009|  832|\n",
      "|2001|  832|\n",
      "|2014|  832|\n",
      "|2004|  832|\n",
      "|1998|  832|\n",
      "|2012|  832|\n",
      "|2016|  832|\n",
      "|2005|  832|\n",
      "|2000|  832|\n",
      "|2010|  832|\n",
      "|2011|  832|\n",
      "|2008|  832|\n",
      "|2017|  832|\n",
      "+----+-----+\n",
      "only showing top 20 rows\n",
      "\n"
     ]
    }
   ],
   "source": [
    "dfg_country = df_country.groupby('Year').count()\n",
    "\n",
    "print(\"Total data points:\", dfg_country.count())\n",
    "\n",
    "dfg_country.orderBy('count', ascending=True).show()\n"
   ]
  },
  {
   "cell_type": "code",
   "execution_count": 238,
   "metadata": {},
   "outputs": [
    {
     "name": "stdout",
     "output_type": "stream",
     "text": [
      "Total data points: 22\n",
      "+----+-----+\n",
      "|Year|count|\n",
      "+----+-----+\n",
      "|2018|  224|\n",
      "|1997|  224|\n",
      "|2003|  896|\n",
      "|2007|  896|\n",
      "|2013|  896|\n",
      "|2015|  896|\n",
      "|2006|  896|\n",
      "|2009|  896|\n",
      "|2001|  896|\n",
      "|2014|  896|\n",
      "|2004|  896|\n",
      "|1998|  896|\n",
      "|2012|  896|\n",
      "|2016|  896|\n",
      "|2005|  896|\n",
      "|2000|  896|\n",
      "|2010|  896|\n",
      "|2011|  896|\n",
      "|2008|  896|\n",
      "|2017|  896|\n",
      "+----+-----+\n",
      "only showing top 20 rows\n",
      "\n"
     ]
    }
   ],
   "source": [
    "dfg_agegroup = df_agegroup.groupby('Year').count()\n",
    "\n",
    "print(\"Total data points:\", dfg_agegroup.count())\n",
    "\n",
    "dfg_agegroup.orderBy('count', ascending=True).show()\n"
   ]
  },
  {
   "cell_type": "code",
   "execution_count": 239,
   "metadata": {},
   "outputs": [
    {
     "name": "stdout",
     "output_type": "stream",
     "text": [
      "Total data points: 22\n",
      "+----+-----+\n",
      "|Year|count|\n",
      "+----+-----+\n",
      "|2018|   22|\n",
      "|1997|   22|\n",
      "|2003|   88|\n",
      "|2007|   88|\n",
      "|2013|   88|\n",
      "|2015|   88|\n",
      "|2006|   88|\n",
      "|2009|   88|\n",
      "|2001|   88|\n",
      "|2014|   88|\n",
      "|2004|   88|\n",
      "|1998|   88|\n",
      "|2012|   88|\n",
      "|2016|   88|\n",
      "|2005|   88|\n",
      "|2000|   88|\n",
      "|2010|   88|\n",
      "|2011|   88|\n",
      "|2008|   88|\n",
      "|2017|   88|\n",
      "+----+-----+\n",
      "only showing top 20 rows\n",
      "\n"
     ]
    }
   ],
   "source": [
    "dfg_accomodation = df_accomodation.groupby('Year').count()\n",
    "\n",
    "print(\"Total data points:\", dfg_accomodation.count())\n",
    "\n",
    "dfg_accomodation.orderBy('count', ascending=True).show()"
   ]
  },
  {
   "cell_type": "code",
   "execution_count": 240,
   "metadata": {},
   "outputs": [
    {
     "data": {
      "text/plain": [
       "5764"
      ]
     },
     "execution_count": 240,
     "metadata": {},
     "output_type": "execute_result"
    }
   ],
   "source": [
    "df_country.filter(df_country['Total visitors'].isNull()).count()"
   ]
  },
  {
   "cell_type": "code",
   "execution_count": 241,
   "metadata": {},
   "outputs": [
    {
     "data": {
      "text/plain": [
       "5764"
      ]
     },
     "execution_count": 241,
     "metadata": {},
     "output_type": "execute_result"
    }
   ],
   "source": [
    "df_country.filter(df_country['Total visitor spend'].isNull()).count()"
   ]
  },
  {
   "cell_type": "code",
   "execution_count": 242,
   "metadata": {},
   "outputs": [
    {
     "data": {
      "text/html": [
       "<div>\n",
       "<style scoped>\n",
       "    .dataframe tbody tr th:only-of-type {\n",
       "        vertical-align: middle;\n",
       "    }\n",
       "\n",
       "    .dataframe tbody tr th {\n",
       "        vertical-align: top;\n",
       "    }\n",
       "\n",
       "    .dataframe thead th {\n",
       "        text-align: right;\n",
       "    }\n",
       "</style>\n",
       "<table border=\"1\" class=\"dataframe\">\n",
       "  <thead>\n",
       "    <tr style=\"text-align: right;\">\n",
       "      <th></th>\n",
       "      <th>0</th>\n",
       "      <th>1</th>\n",
       "      <th>2</th>\n",
       "      <th>3</th>\n",
       "      <th>4</th>\n",
       "    </tr>\n",
       "  </thead>\n",
       "  <tbody>\n",
       "    <tr>\n",
       "      <th>summary</th>\n",
       "      <td>count</td>\n",
       "      <td>mean</td>\n",
       "      <td>stddev</td>\n",
       "      <td>min</td>\n",
       "      <td>max</td>\n",
       "    </tr>\n",
       "    <tr>\n",
       "      <th>Pkey</th>\n",
       "      <td>17056</td>\n",
       "      <td>8528.5</td>\n",
       "      <td>4923.787431100846</td>\n",
       "      <td>1</td>\n",
       "      <td>17056</td>\n",
       "    </tr>\n",
       "    <tr>\n",
       "      <th>Year</th>\n",
       "      <td>17056</td>\n",
       "      <td>2007.5</td>\n",
       "      <td>5.9270657557172814</td>\n",
       "      <td>1997</td>\n",
       "      <td>2018</td>\n",
       "    </tr>\n",
       "    <tr>\n",
       "      <th>Quarter</th>\n",
       "      <td>17056</td>\n",
       "      <td>2.5</td>\n",
       "      <td>1.1289220372929016</td>\n",
       "      <td>1</td>\n",
       "      <td>4</td>\n",
       "    </tr>\n",
       "    <tr>\n",
       "      <th>Year ending</th>\n",
       "      <td>17056</td>\n",
       "      <td>None</td>\n",
       "      <td>None</td>\n",
       "      <td>YEDec 1997</td>\n",
       "      <td>YESep 2017</td>\n",
       "    </tr>\n",
       "    <tr>\n",
       "      <th>Airport of departure</th>\n",
       "      <td>17056</td>\n",
       "      <td>None</td>\n",
       "      <td>None</td>\n",
       "      <td>Auckland</td>\n",
       "      <td>Wellington</td>\n",
       "    </tr>\n",
       "    <tr>\n",
       "      <th>Purpose of visit</th>\n",
       "      <td>17056</td>\n",
       "      <td>None</td>\n",
       "      <td>None</td>\n",
       "      <td>Business</td>\n",
       "      <td>Visiting friends / relatives</td>\n",
       "    </tr>\n",
       "    <tr>\n",
       "      <th>Country of permanent residence</th>\n",
       "      <td>17056</td>\n",
       "      <td>None</td>\n",
       "      <td>None</td>\n",
       "      <td>Africa and Middle East</td>\n",
       "      <td>USA</td>\n",
       "    </tr>\n",
       "    <tr>\n",
       "      <th>Total visitor spend</th>\n",
       "      <td>11292</td>\n",
       "      <td>5.09246119696264E7</td>\n",
       "      <td>1.0193863986366412E8</td>\n",
       "      <td>2.4</td>\n",
       "      <td>1.235333092E9</td>\n",
       "    </tr>\n",
       "    <tr>\n",
       "      <th>Total visitors</th>\n",
       "      <td>11292</td>\n",
       "      <td>15576.741232731138</td>\n",
       "      <td>33229.303734004156</td>\n",
       "      <td>1</td>\n",
       "      <td>314584</td>\n",
       "    </tr>\n",
       "  </tbody>\n",
       "</table>\n",
       "</div>"
      ],
      "text/plain": [
       "                                    0                   1  \\\n",
       "summary                         count                mean   \n",
       "Pkey                            17056              8528.5   \n",
       "Year                            17056              2007.5   \n",
       "Quarter                         17056                 2.5   \n",
       "Year ending                     17056                None   \n",
       "Airport of departure            17056                None   \n",
       "Purpose of visit                17056                None   \n",
       "Country of permanent residence  17056                None   \n",
       "Total visitor spend             11292  5.09246119696264E7   \n",
       "Total visitors                  11292  15576.741232731138   \n",
       "\n",
       "                                                   2                       3  \\\n",
       "summary                                       stddev                     min   \n",
       "Pkey                               4923.787431100846                       1   \n",
       "Year                              5.9270657557172814                    1997   \n",
       "Quarter                           1.1289220372929016                       1   \n",
       "Year ending                                     None              YEDec 1997   \n",
       "Airport of departure                            None                Auckland   \n",
       "Purpose of visit                                None                Business   \n",
       "Country of permanent residence                  None  Africa and Middle East   \n",
       "Total visitor spend             1.0193863986366412E8                     2.4   \n",
       "Total visitors                    33229.303734004156                       1   \n",
       "\n",
       "                                                           4  \n",
       "summary                                                  max  \n",
       "Pkey                                                   17056  \n",
       "Year                                                    2018  \n",
       "Quarter                                                    4  \n",
       "Year ending                                       YESep 2017  \n",
       "Airport of departure                              Wellington  \n",
       "Purpose of visit                Visiting friends / relatives  \n",
       "Country of permanent residence                           USA  \n",
       "Total visitor spend                            1.235333092E9  \n",
       "Total visitors                                        314584  "
      ]
     },
     "execution_count": 242,
     "metadata": {},
     "output_type": "execute_result"
    }
   ],
   "source": [
    "# Now that we understand the data's features, let's use a Python package to neatly describe the data.\n",
    "import pandas as pd\n",
    "df_country.describe().toPandas().transpose()"
   ]
  },
  {
   "cell_type": "code",
   "execution_count": 243,
   "metadata": {},
   "outputs": [
    {
     "data": {
      "text/html": [
       "<div>\n",
       "<style scoped>\n",
       "    .dataframe tbody tr th:only-of-type {\n",
       "        vertical-align: middle;\n",
       "    }\n",
       "\n",
       "    .dataframe tbody tr th {\n",
       "        vertical-align: top;\n",
       "    }\n",
       "\n",
       "    .dataframe thead th {\n",
       "        text-align: right;\n",
       "    }\n",
       "</style>\n",
       "<table border=\"1\" class=\"dataframe\">\n",
       "  <thead>\n",
       "    <tr style=\"text-align: right;\">\n",
       "      <th></th>\n",
       "      <th>0</th>\n",
       "      <th>1</th>\n",
       "      <th>2</th>\n",
       "      <th>3</th>\n",
       "      <th>4</th>\n",
       "    </tr>\n",
       "  </thead>\n",
       "  <tbody>\n",
       "    <tr>\n",
       "      <th>summary</th>\n",
       "      <td>count</td>\n",
       "      <td>mean</td>\n",
       "      <td>stddev</td>\n",
       "      <td>min</td>\n",
       "      <td>max</td>\n",
       "    </tr>\n",
       "    <tr>\n",
       "      <th>Pkey</th>\n",
       "      <td>18368</td>\n",
       "      <td>9184.5</td>\n",
       "      <td>5302.529207840349</td>\n",
       "      <td>1</td>\n",
       "      <td>18368</td>\n",
       "    </tr>\n",
       "    <tr>\n",
       "      <th>Year</th>\n",
       "      <td>18368</td>\n",
       "      <td>2007.5</td>\n",
       "      <td>5.927053344093044</td>\n",
       "      <td>1997</td>\n",
       "      <td>2018</td>\n",
       "    </tr>\n",
       "    <tr>\n",
       "      <th>Quarter</th>\n",
       "      <td>18368</td>\n",
       "      <td>2.5</td>\n",
       "      <td>1.1289196732637206</td>\n",
       "      <td>1</td>\n",
       "      <td>4</td>\n",
       "    </tr>\n",
       "    <tr>\n",
       "      <th>Year ending</th>\n",
       "      <td>18368</td>\n",
       "      <td>None</td>\n",
       "      <td>None</td>\n",
       "      <td>YEDec 1997</td>\n",
       "      <td>YESep 2017</td>\n",
       "    </tr>\n",
       "    <tr>\n",
       "      <th>Airport of departure</th>\n",
       "      <td>18368</td>\n",
       "      <td>None</td>\n",
       "      <td>None</td>\n",
       "      <td>Auckland</td>\n",
       "      <td>Wellington</td>\n",
       "    </tr>\n",
       "    <tr>\n",
       "      <th>Purpose of visit</th>\n",
       "      <td>18368</td>\n",
       "      <td>None</td>\n",
       "      <td>None</td>\n",
       "      <td>Business</td>\n",
       "      <td>Visiting friends / relatives</td>\n",
       "    </tr>\n",
       "    <tr>\n",
       "      <th>Age band</th>\n",
       "      <td>18368</td>\n",
       "      <td>None</td>\n",
       "      <td>None</td>\n",
       "      <td>20 - 24</td>\n",
       "      <td>Under 20</td>\n",
       "    </tr>\n",
       "    <tr>\n",
       "      <th>Total visitor spend</th>\n",
       "      <td>12329</td>\n",
       "      <td>4.664130248687477E7</td>\n",
       "      <td>7.703335405405422E7</td>\n",
       "      <td>313.96</td>\n",
       "      <td>6.334628885E8</td>\n",
       "    </tr>\n",
       "    <tr>\n",
       "      <th>Total visitors</th>\n",
       "      <td>12329</td>\n",
       "      <td>14266.559493876226</td>\n",
       "      <td>21268.587894159005</td>\n",
       "      <td>1</td>\n",
       "      <td>189574</td>\n",
       "    </tr>\n",
       "  </tbody>\n",
       "</table>\n",
       "</div>"
      ],
      "text/plain": [
       "                          0                    1                    2  \\\n",
       "summary               count                 mean               stddev   \n",
       "Pkey                  18368               9184.5    5302.529207840349   \n",
       "Year                  18368               2007.5    5.927053344093044   \n",
       "Quarter               18368                  2.5   1.1289196732637206   \n",
       "Year ending           18368                 None                 None   \n",
       "Airport of departure  18368                 None                 None   \n",
       "Purpose of visit      18368                 None                 None   \n",
       "Age band              18368                 None                 None   \n",
       "Total visitor spend   12329  4.664130248687477E7  7.703335405405422E7   \n",
       "Total visitors        12329   14266.559493876226   21268.587894159005   \n",
       "\n",
       "                               3                             4  \n",
       "summary                      min                           max  \n",
       "Pkey                           1                         18368  \n",
       "Year                        1997                          2018  \n",
       "Quarter                        1                             4  \n",
       "Year ending           YEDec 1997                    YESep 2017  \n",
       "Airport of departure    Auckland                    Wellington  \n",
       "Purpose of visit        Business  Visiting friends / relatives  \n",
       "Age band                 20 - 24                      Under 20  \n",
       "Total visitor spend       313.96                 6.334628885E8  \n",
       "Total visitors                 1                        189574  "
      ]
     },
     "execution_count": 243,
     "metadata": {},
     "output_type": "execute_result"
    }
   ],
   "source": [
    "# Now that we understand the data's features, let's use a Python package to neatly describe the data.\n",
    "import pandas as pd\n",
    "df_agegroup.describe().toPandas().transpose()"
   ]
  },
  {
   "cell_type": "code",
   "execution_count": 244,
   "metadata": {},
   "outputs": [
    {
     "data": {
      "text/html": [
       "<div>\n",
       "<style scoped>\n",
       "    .dataframe tbody tr th:only-of-type {\n",
       "        vertical-align: middle;\n",
       "    }\n",
       "\n",
       "    .dataframe tbody tr th {\n",
       "        vertical-align: top;\n",
       "    }\n",
       "\n",
       "    .dataframe thead th {\n",
       "        text-align: right;\n",
       "    }\n",
       "</style>\n",
       "<table border=\"1\" class=\"dataframe\">\n",
       "  <thead>\n",
       "    <tr style=\"text-align: right;\">\n",
       "      <th></th>\n",
       "      <th>0</th>\n",
       "      <th>1</th>\n",
       "      <th>2</th>\n",
       "      <th>3</th>\n",
       "      <th>4</th>\n",
       "    </tr>\n",
       "  </thead>\n",
       "  <tbody>\n",
       "    <tr>\n",
       "      <th>summary</th>\n",
       "      <td>count</td>\n",
       "      <td>mean</td>\n",
       "      <td>stddev</td>\n",
       "      <td>min</td>\n",
       "      <td>max</td>\n",
       "    </tr>\n",
       "    <tr>\n",
       "      <th>Pkey</th>\n",
       "      <td>1804</td>\n",
       "      <td>902.5</td>\n",
       "      <td>520.9142603794473</td>\n",
       "      <td>1</td>\n",
       "      <td>1804</td>\n",
       "    </tr>\n",
       "    <tr>\n",
       "      <th>Year</th>\n",
       "      <td>1804</td>\n",
       "      <td>2007.5</td>\n",
       "      <td>5.928535391755241</td>\n",
       "      <td>1997</td>\n",
       "      <td>2018</td>\n",
       "    </tr>\n",
       "    <tr>\n",
       "      <th>Quarter</th>\n",
       "      <td>1804</td>\n",
       "      <td>2.5</td>\n",
       "      <td>1.1292019573374812</td>\n",
       "      <td>1</td>\n",
       "      <td>4</td>\n",
       "    </tr>\n",
       "    <tr>\n",
       "      <th>Year ending</th>\n",
       "      <td>1804</td>\n",
       "      <td>None</td>\n",
       "      <td>None</td>\n",
       "      <td>YEDec 1997</td>\n",
       "      <td>YESep 2017</td>\n",
       "    </tr>\n",
       "    <tr>\n",
       "      <th>Main accommodation used</th>\n",
       "      <td>1804</td>\n",
       "      <td>None</td>\n",
       "      <td>None</td>\n",
       "      <td>A house you own</td>\n",
       "      <td>Youth Hostel, YMCA, YWCA</td>\n",
       "    </tr>\n",
       "    <tr>\n",
       "      <th>Total visitors</th>\n",
       "      <td>1392</td>\n",
       "      <td>126359.6422413793</td>\n",
       "      <td>213557.10459242677</td>\n",
       "      <td>85</td>\n",
       "      <td>910028</td>\n",
       "    </tr>\n",
       "  </tbody>\n",
       "</table>\n",
       "</div>"
      ],
      "text/plain": [
       "                             0                  1                   2  \\\n",
       "summary                  count               mean              stddev   \n",
       "Pkey                      1804              902.5   520.9142603794473   \n",
       "Year                      1804             2007.5   5.928535391755241   \n",
       "Quarter                   1804                2.5  1.1292019573374812   \n",
       "Year ending               1804               None                None   \n",
       "Main accommodation used   1804               None                None   \n",
       "Total visitors            1392  126359.6422413793  213557.10459242677   \n",
       "\n",
       "                                         3                           4  \n",
       "summary                                min                         max  \n",
       "Pkey                                     1                        1804  \n",
       "Year                                  1997                        2018  \n",
       "Quarter                                  1                           4  \n",
       "Year ending                     YEDec 1997                  YESep 2017  \n",
       "Main accommodation used    A house you own    Youth Hostel, YMCA, YWCA  \n",
       "Total visitors                          85                      910028  "
      ]
     },
     "execution_count": 244,
     "metadata": {},
     "output_type": "execute_result"
    }
   ],
   "source": [
    "# Now that we understand the data's features, let's use a Python package to neatly describe the data.\n",
    "import pandas as pd\n",
    "df_accomodation.describe().toPandas().transpose()"
   ]
  },
  {
   "cell_type": "code",
   "execution_count": 245,
   "metadata": {},
   "outputs": [
    {
     "data": {
      "text/plain": [
       "6039"
      ]
     },
     "execution_count": 245,
     "metadata": {},
     "output_type": "execute_result"
    }
   ],
   "source": [
    "df_agegroup.filter(df_agegroup['Total visitors'].isNull()).count()"
   ]
  },
  {
   "cell_type": "code",
   "execution_count": 246,
   "metadata": {},
   "outputs": [
    {
     "data": {
      "text/plain": [
       "6039"
      ]
     },
     "execution_count": 246,
     "metadata": {},
     "output_type": "execute_result"
    }
   ],
   "source": [
    "df_agegroup.filter(df_agegroup['Total visitor spend'].isNull()).count()"
   ]
  },
  {
   "cell_type": "code",
   "execution_count": 247,
   "metadata": {},
   "outputs": [
    {
     "data": {
      "text/plain": [
       "412"
      ]
     },
     "execution_count": 247,
     "metadata": {},
     "output_type": "execute_result"
    }
   ],
   "source": [
    "df_accomodation.filter(df_accomodation['Total visitors'].isNull()).count()"
   ]
  },
  {
   "cell_type": "code",
   "execution_count": 270,
   "metadata": {
    "scrolled": true
   },
   "outputs": [
    {
     "name": "stdout",
     "output_type": "stream",
     "text": [
      "+----+-----+--------------+\n",
      "|Year|count|Total visitors|\n",
      "+----+-----+--------------+\n",
      "|1997|  116|       1344175|\n",
      "|1998|  472|       5260311|\n",
      "|1999|  478|       5528644|\n",
      "|2000|  499|       6028412|\n",
      "|2001|  495|       6554112|\n",
      "|2002|  495|       6735719|\n",
      "|2003|  530|       7226039|\n",
      "|2004|  554|       8048578|\n",
      "|2005|  553|       8522378|\n",
      "|2006|  565|       8497075|\n",
      "|2007|  568|       8749918|\n",
      "|2008|  576|       8760336|\n",
      "|2009|  560|       8535507|\n",
      "|2010|  556|       8859303|\n",
      "|2011|  554|       9045358|\n",
      "|2012|  547|       9296768|\n",
      "|2013|  587|       9460251|\n",
      "|2014|  605|      10069492|\n",
      "|2015|  603|      10905705|\n",
      "|2016|  623|      12096148|\n",
      "+----+-----+--------------+\n",
      "only showing top 20 rows\n",
      "\n",
      "Total data points: 11292\n",
      "Total data points: 11292\n"
     ]
    },
    {
     "data": {
      "image/png": "[encoded data removed]",
      "text/plain": [
       "<Figure size 432x288 with 1 Axes>"
      ]
     },
     "metadata": {},
     "output_type": "display_data"
    }
   ],
   "source": [
    "# Spark: Groupby + Agg + alias\n",
    "import pyspark.sql.functions as F\n",
    "dfg_country = df_country.groupby('Year').agg(\n",
    "    F.count('Year').alias('count'), \n",
    "    F.sum('Total visitors').alias('Total visitors'))\n",
    "\n",
    "dfg_country = dfg_country.orderBy('Year', ascending=True)\n",
    "\n",
    "dfg_country.show()\n",
    "\n",
    "# Total Number of records before removing null value\n",
    "print(\"Total data points:\", df_country.count())\n",
    "\n",
    "# Total Number of records after removing null value\n",
    "df_country = df_country.na.drop()\n",
    "# df_country.show()\n",
    "print(\"Total data points:\", df_country.count())\n",
    "\n",
    "some_df=dfg_country.toDF('Year', 'count', 'Total visitors')\n",
    "pandaDf = some_df.toPandas()\n",
    "\n",
    "df =  pandaDf \n",
    "ax = df.plot.barh(x='Year', y='Total visitors', rot=0)\n"
   ]
  },
  {
   "cell_type": "code",
   "execution_count": 271,
   "metadata": {},
   "outputs": [
    {
     "name": "stdout",
     "output_type": "stream",
     "text": [
      "+------------------------------+-----+--------------+\n",
      "|Country of permanent residence|count|Total visitors|\n",
      "+------------------------------+-----+--------------+\n",
      "|          Africa and Middle...|  900|       4057088|\n",
      "|                     Australia| 1060|      69870263|\n",
      "|                        Canada|  867|       3384958|\n",
      "|                         China|  763|      10820144|\n",
      "|                       Germany|  869|       4788327|\n",
      "|                         Japan|  846|       8666289|\n",
      "|            Korea, Republic of|  609|       5162785|\n",
      "|              Rest of Americas|  600|       2445624|\n",
      "|                  Rest of Asia|  997|      14047098|\n",
      "|                Rest of Europe| 1004|      11252635|\n",
      "|               Rest of Oceania|  757|       8582475|\n",
      "|                            UK| 1002|      17485229|\n",
      "|                           USA| 1018|      15329647|\n",
      "+------------------------------+-----+--------------+\n",
      "\n",
      "Total data points: 11292\n",
      "Total data points: 11292\n"
     ]
    },
    {
     "data": {
      "image/png": "[encoded data removed]",
      "text/plain": [
       "<Figure size 432x288 with 1 Axes>"
      ]
     },
     "metadata": {},
     "output_type": "display_data"
    }
   ],
   "source": [
    "# Spark: Groupby + Agg + alias\n",
    "import pyspark.sql.functions as F\n",
    "dfg_country = df_country.groupby('Country of permanent residence').agg(\n",
    "    F.count('Country of permanent residence').alias('count'), \n",
    "    F.sum('Total visitors').alias('Total visitors'))\n",
    "\n",
    "dfg_country = dfg_country.orderBy('Country of permanent residence', ascending=True)\n",
    "\n",
    "dfg_country.show()\n",
    "\n",
    "# Total Number of records before removing null value\n",
    "print(\"Total data points:\", df_country.count())\n",
    "\n",
    "# Total Number of records after removing null value\n",
    "df_country = df_country.na.drop()\n",
    "# df_country.show()\n",
    "print(\"Total data points:\", df_country.count())\n",
    "\n",
    "some_df=dfg_country.toDF('Country of permanent residence', 'count', 'Total visitors')\n",
    "pandaDf = some_df.toPandas()\n",
    "\n",
    "df =  pandaDf \n",
    "ax = df.plot.barh(x='Country of permanent residence', y='Total visitors', rot=0)\n"
   ]
  },
  {
   "cell_type": "code",
   "execution_count": 272,
   "metadata": {},
   "outputs": [
    {
     "name": "stdout",
     "output_type": "stream",
     "text": [
      "+--------------------+-----+--------------+\n",
      "|    Purpose of visit|count|Total visitors|\n",
      "+--------------------+-----+--------------+\n",
      "|            Business| 2680|      20698010|\n",
      "|  Holiday / vacation| 3146|      92895616|\n",
      "|               Other| 2596|      13362432|\n",
      "|Visiting friends ...| 2870|      48936504|\n",
      "+--------------------+-----+--------------+\n",
      "\n",
      "Total data points: 11292\n",
      "Total data points: 11292\n"
     ]
    },
    {
     "data": {
      "image/png": "[encoded data removed]",
      "text/plain": [
       "<Figure size 432x288 with 1 Axes>"
      ]
     },
     "metadata": {},
     "output_type": "display_data"
    }
   ],
   "source": [
    "# Spark: Groupby + Agg + alias\n",
    "import pyspark.sql.functions as F\n",
    "dfg_country = df_country.groupby('Purpose of visit').agg(\n",
    "    F.count('Purpose of visit').alias('count'), \n",
    "    F.sum('Total visitors').alias('Total visitors'))\n",
    "\n",
    "dfg_country = dfg_country.orderBy('Purpose of visit', ascending=True)\n",
    "\n",
    "dfg_country.show()\n",
    "\n",
    "# Total Number of records before removing null value\n",
    "print(\"Total data points:\", df_country.count())\n",
    "\n",
    "# Total Number of records after removing null value\n",
    "df_country = df_country.na.drop()\n",
    "# df_country.show()\n",
    "print(\"Total data points:\", df_country.count())\n",
    "\n",
    "some_df=dfg_country.toDF('Purpose of visit', 'count', 'Total visitors')\n",
    "pandaDf = some_df.toPandas()\n",
    "\n",
    "df =  pandaDf \n",
    "ax = df.plot.barh(x='Purpose of visit', y='Total visitors', rot=0)"
   ]
  },
  {
   "cell_type": "code",
   "execution_count": 275,
   "metadata": {},
   "outputs": [
    {
     "name": "stdout",
     "output_type": "stream",
     "text": [
      "+--------------------+-----+--------------+\n",
      "|Airport of departure|count|Total visitors|\n",
      "+--------------------+-----+--------------+\n",
      "|            Auckland| 4262|     127947041|\n",
      "|        Christchurch| 3604|      33641657|\n",
      "|          Queenstown|  390|       3277265|\n",
      "|          Wellington| 3036|      11026599|\n",
      "+--------------------+-----+--------------+\n",
      "\n",
      "Total data points: 11292\n",
      "Total data points: 11292\n"
     ]
    },
    {
     "data": {
      "image/png": "[encoded data removed]",
      "text/plain": [
       "<Figure size 360x360 with 1 Axes>"
      ]
     },
     "metadata": {},
     "output_type": "display_data"
    }
   ],
   "source": [
    "# Spark: Groupby + Agg + alias\n",
    "import pyspark.sql.functions as F\n",
    "dfg_country = df_country.groupby('Airport of departure').agg(\n",
    "    F.count('Airport of departure').alias('count'), \n",
    "    F.sum('Total visitors').alias('Total visitors'))\n",
    "\n",
    "dfg_country = dfg_country.orderBy('Airport of departure', ascending=True)\n",
    "\n",
    "dfg_country.show()\n",
    "\n",
    "# Total Number of records before removing null value\n",
    "print(\"Total data points:\", df_country.count())\n",
    "\n",
    "# Total Number of records after removing null value\n",
    "df_country = df_country.na.drop()\n",
    "# df_country.show()\n",
    "print(\"Total data points:\", df_country.count())\n",
    "\n",
    "some_df=dfg_country.toDF('Airport of departure', 'count', 'Total visitors')\n",
    "pandaDf = some_df.toPandas()\n",
    "\n",
    "df =  pandaDf \n",
    "ax = df.plot.pie(y='Total visitors', figsize=(5, 5))"
   ]
  },
  {
   "cell_type": "code",
   "execution_count": 74,
   "metadata": {},
   "outputs": [
    {
     "name": "stdout",
     "output_type": "stream",
     "text": [
      "Total data points: 17056\n",
      "Total data points: 11292\n"
     ]
    }
   ],
   "source": [
    "# Total Number of records before removing null value\n",
    "print(\"Total data points:\", df_country.count())\n",
    "\n",
    "# Total Number of records after removing null value\n",
    "df_country = df_country.na.drop()\n",
    "# df_country.show()\n",
    "print(\"Total data points:\", df_country.count())"
   ]
  },
  {
   "cell_type": "code",
   "execution_count": 102,
   "metadata": {},
   "outputs": [
    {
     "name": "stdout",
     "output_type": "stream",
     "text": [
      "Total data points: 18368\n",
      "Total data points: 12329\n"
     ]
    }
   ],
   "source": [
    "# Total Number of records before removing null value\n",
    "print(\"Total data points:\", df_agegroup.count())\n",
    "\n",
    "# Total Number of records after removing null value\n",
    "df_agegroup = df_agegroup.na.drop()\n",
    "# df_agegroup.show()\n",
    "print(\"Total data points:\", df_agegroup.count())"
   ]
  },
  {
   "cell_type": "code",
   "execution_count": 227,
   "metadata": {},
   "outputs": [
    {
     "name": "stdout",
     "output_type": "stream",
     "text": [
      "Total data points: 1804\n",
      "Total data points: 1392\n"
     ]
    }
   ],
   "source": [
    "# Total Number of records before removing null value\n",
    "print(\"Total data points:\", df_accomodation.count())\n",
    "\n",
    "# Total Number of records after removing null value\n",
    "df_accomodation = df_accomodation.na.drop()\n",
    "# df_accomodation.show()\n",
    "print(\"Total data points:\", df_accomodation.count())"
   ]
  },
  {
   "cell_type": "code",
   "execution_count": 37,
   "metadata": {},
   "outputs": [
    {
     "data": {
      "image/png": "[encoded data removed]",
      "text/plain": [
       "<Figure size 432x288 with 1 Axes>"
      ]
     },
     "metadata": {},
     "output_type": "display_data"
    }
   ],
   "source": [
    "import numpy as np\n",
    "import matplotlib.pyplot as plt\n",
    "\n",
    "# Generate data on commute times.\n",
    "size, scale = 1000, 10\n",
    "commutes = pd.Series(np.random.gamma(scale, size=size) ** 1.5)\n",
    "\n",
    "commutes.plot.hist(grid=True, bins=20, rwidth=0.9,\n",
    "                   color='#607c8e')\n",
    "plt.title('Commute Times for 1,000 Commuters')\n",
    "plt.xlabel('Counts')\n",
    "plt.ylabel('Commute Time')\n",
    "plt.grid(axis='y', alpha=0.75)"
   ]
  },
  {
   "cell_type": "code",
   "execution_count": 5,
   "metadata": {},
   "outputs": [
    {
     "name": "stdout",
     "output_type": "stream",
     "text": [
      "root\n",
      " |-- Pkey: integer (nullable = true)\n",
      " |-- Year: integer (nullable = true)\n",
      " |-- Quarter: integer (nullable = true)\n",
      " |-- Year ending: string (nullable = true)\n",
      " |-- Airport of departure: string (nullable = true)\n",
      " |-- Purpose of visit: string (nullable = true)\n",
      " |-- Country of permanent residence: string (nullable = true)\n",
      " |-- Total visitor spend: double (nullable = true)\n",
      " |-- Total visitors: integer (nullable = true)\n",
      " |-- features: vector (nullable = true)\n",
      "\n"
     ]
    },
    {
     "data": {
      "text/plain": [
       "[Row(Pkey=1, Year=1997, Quarter=4, Year ending='YEDec 1997', Airport of departure='Auckland', Purpose of visit='Business', Country of permanent residence='Africa and Middle East', Total visitor spend=4266524.07, Total visitors=1684, features=DenseVector([1.0, 1997.0, 4.0, 4266524.07]))]"
      ]
     },
     "execution_count": 5,
     "metadata": {},
     "output_type": "execute_result"
    }
   ],
   "source": [
    "# Import VectorAssembler and Vectors\n",
    "from pyspark.ml.feature import VectorAssembler\n",
    "\n",
    "# The input columns are the feature column names, and the output column is what you'd like the new column to be named. \n",
    "vector_assembler = VectorAssembler(inputCols = ['Pkey', 'Year', 'Quarter', 'Total visitor spend'], outputCol = 'features')\n",
    "\n",
    "# Now that we've created the assembler variable, let's actually transform the data.\n",
    "vector_output = vector_assembler.transform(df)\n",
    "\n",
    "# Using print schema, you see that the features output column has been added. \n",
    "vector_output.printSchema()\n",
    "\n",
    "# You can see that the features column is a DenseVector that combines the various features as expected.\n",
    "vector_output.head(1)"
   ]
  },
  {
   "cell_type": "code",
   "execution_count": 6,
   "metadata": {},
   "outputs": [
    {
     "name": "stdout",
     "output_type": "stream",
     "text": [
      "[Row(features=DenseVector([1.0, 1997.0, 4.0, 4266524.07]), Total visitors=1684)]\n",
      "+--------------------+--------------+\n",
      "|            features|Total visitors|\n",
      "+--------------------+--------------+\n",
      "|[1.0,1997.0,4.0,4...|          1684|\n",
      "|[2.0,1997.0,4.0,1...|         67277|\n",
      "|[3.0,1997.0,4.0,1...|          3596|\n",
      "+--------------------+--------------+\n",
      "only showing top 3 rows\n",
      "\n"
     ]
    }
   ],
   "source": [
    "# Because the features have been combined into one vector, we no longer need them. Below we select the features and label.\n",
    "vector_output = vector_output.select(['features', 'Total visitors'])\n",
    "\n",
    "# You can see that the dataframe now only contains two columns. \n",
    "print(vector_output.head(1))\n",
    "vector_output.show(3)"
   ]
  },
  {
   "cell_type": "code",
   "execution_count": 7,
   "metadata": {},
   "outputs": [
    {
     "name": "stdout",
     "output_type": "stream",
     "text": [
      "+-------+------------------+\n",
      "|summary|    Total visitors|\n",
      "+-------+------------------+\n",
      "|  count|              7896|\n",
      "|   mean|          15751.75|\n",
      "| stddev|33935.936203543264|\n",
      "|    min|                 5|\n",
      "|    max|            314584|\n",
      "+-------+------------------+\n",
      "\n",
      "+-------+------------------+\n",
      "|summary|    Total visitors|\n",
      "+-------+------------------+\n",
      "|  count|              3396|\n",
      "|   mean|15169.830388692579|\n",
      "| stddev|31526.261124706507|\n",
      "|    min|                 1|\n",
      "|    max|            295905|\n",
      "+-------+------------------+\n",
      "\n"
     ]
    }
   ],
   "source": [
    "# Let's do a randomised 70/30 split. Remember, you should explain why you chose a particular split. \n",
    "train_data,test_data = vector_output.randomSplit([0.7,0.3])\n",
    "\n",
    "# Let's see our training data.\n",
    "train_data.describe().show()\n",
    "\n",
    "# And our testing data.\n",
    "test_data.describe().show()"
   ]
  },
  {
   "cell_type": "code",
   "execution_count": 8,
   "metadata": {},
   "outputs": [
    {
     "name": "stdout",
     "output_type": "stream",
     "text": [
      "Linear Regression Coefficients: [-0.010583181431505165,169.54636313762964,-6.796631880993142,0.0002938365580888209]\n",
      "Linear Regression Intercept: -339737.7234352198\n",
      "\n",
      "Linear Regression RMSE on training data: 14518.556521510429\n",
      "Linear Regression R2 on training data: 0.8169447389429543\n"
     ]
    }
   ],
   "source": [
    "# Importing the LR package.\n",
    "from pyspark.ml.regression import LinearRegression\n",
    "\n",
    "# Instantiate the instance.\n",
    "lr = LinearRegression(featuresCol='features', labelCol='Total visitors')\n",
    "\n",
    "# Fit the training data.\n",
    "lr_model = lr.fit(train_data)\n",
    "\n",
    "# Print the coefficients.\n",
    "print(\"Linear Regression Coefficients: \" + str(lr_model.coefficients))\n",
    "\n",
    "# Print the intercept.\n",
    "print(\"Linear Regression Intercept: \" + str(lr_model.intercept) + \"\\n\")\n",
    "\n",
    "# Summarise the model and print out some evaluation metrics.\n",
    "training_summary = lr_model.summary\n",
    "\n",
    "# Print RMSE. \n",
    "print(\"Linear Regression RMSE on training data: \" + str(training_summary.rootMeanSquaredError))\n",
    "\n",
    "# Print R2.\n",
    "print(\"Linear Regression R2 on training data: \" + str(training_summary.r2))"
   ]
  },
  {
   "cell_type": "code",
   "execution_count": 10,
   "metadata": {},
   "outputs": [
    {
     "data": {
      "text/plain": [
       "Text(0,0.5,'Beta Coefficients')"
      ]
     },
     "execution_count": 10,
     "metadata": {},
     "output_type": "execute_result"
    },
    {
     "data": {
      "image/png": "[encoded data removed]",
      "text/plain": [
       "<Figure size 432x288 with 1 Axes>"
      ]
     },
     "metadata": {},
     "output_type": "display_data"
    }
   ],
   "source": [
    "import matplotlib.pyplot as plt\n",
    "import numpy as np\n",
    "\n",
    "# Visualising the coefficients. Sort from lowest to highest.\n",
    "beta = np.sort(lr_model.coefficients)\n",
    "\n",
    "# Plot the data.\n",
    "plt.plot(beta)\n",
    "\n",
    "# Add a label to the data.\n",
    "plt.ylabel('Beta Coefficients')"
   ]
  },
  {
   "cell_type": "code",
   "execution_count": 11,
   "metadata": {},
   "outputs": [
    {
     "name": "stdout",
     "output_type": "stream",
     "text": [
      "+-------+------------------+\n",
      "|summary|    Total visitors|\n",
      "+-------+------------------+\n",
      "|  count|              7896|\n",
      "|   mean|          15751.75|\n",
      "| stddev|33935.936203543264|\n",
      "|    min|                 5|\n",
      "|    max|            314584|\n",
      "+-------+------------------+\n",
      "\n"
     ]
    }
   ],
   "source": [
    "train_data.describe().show()"
   ]
  },
  {
   "cell_type": "code",
   "execution_count": 16,
   "metadata": {},
   "outputs": [
    {
     "name": "stdout",
     "output_type": "stream",
     "text": [
      "Linear Regression RMSE on test data: 13464.577873218419\n",
      "Linear Regression R2 on test data: 0.8175396720865907\n"
     ]
    }
   ],
   "source": [
    "# Let's evaluate the model against the test data.\n",
    "test_results = lr_model.evaluate(test_data)\n",
    "\n",
    "# And print the RMSE/R2. As expected, our RMSE and R2 are slightly worse when applying the testing set.\n",
    "print(\"Linear Regression RMSE on test data: \" + str(test_results.rootMeanSquaredError))\n",
    "print(\"Linear Regression R2 on test data: \" + str(test_results.r2))"
   ]
  },
  {
   "cell_type": "code",
   "execution_count": 34,
   "metadata": {},
   "outputs": [
    {
     "name": "stdout",
     "output_type": "stream",
     "text": [
      "Coefficients: [-0.010583181431505165,169.54636313762964,-6.796631880993142,0.0002938365580888209]\n",
      "Intercept: -339737.7234352198\n",
      "Coefficient Standard Errors: [0.0379385853630918, 29.114720404106805, 158.31954045342442, 1.571593213420591e-06, 58340.24721296264]\n",
      "T Values: [-0.27895561550908315, 5.8233897074867365, -0.042929835834084065, 186.9673116297583, -5.823385050033407]\n",
      "P Values: [0.7802861969297199, 5.9926241746666165e-09, 0.965758551289579, 0.0, 5.992790486075705e-09]\n",
      "Dispersion: 210922046.06078333\n",
      "Null Deviance: 9092259112656.5\n",
      "Residual Degree Of Freedom Null: 7895\n",
      "Deviance: 1664385865465.641\n",
      "Residual Degree Of Freedom: 7891\n",
      "AIC: 173757.50120442783\n",
      "Deviance Residuals: \n",
      "+-------------------+\n",
      "|  devianceResiduals|\n",
      "+-------------------+\n",
      "| 1611.1726123468834|\n",
      "| 196.03243811806897|\n",
      "| 2902.3216416878277|\n",
      "| 1459.3265152244712|\n",
      "|   2864.14365082694|\n",
      "| 1548.4965941457194|\n",
      "| 3163.2196804133127|\n",
      "|  2939.238200429245|\n",
      "|  4668.374165237241|\n",
      "|  4407.365175025829|\n",
      "| 2351.5678922832594|\n",
      "|-1266.8863911821973|\n",
      "| -18852.97999333305|\n",
      "|  35904.77287866984|\n",
      "|  8363.883187525207|\n",
      "| 3983.8830344195594|\n",
      "| 10340.013507091324|\n",
      "|-1353.9672001135186|\n",
      "| -4493.277726857748|\n",
      "| 10130.476759029261|\n",
      "+-------------------+\n",
      "only showing top 20 rows\n",
      "\n"
     ]
    }
   ],
   "source": [
    "from pyspark.ml.regression import GeneralizedLinearRegression\n",
    "\n",
    "glr = GeneralizedLinearRegression(featuresCol='features', labelCol='Total visitors')\n",
    "\n",
    "# Fit the model\n",
    "glr_model = glr.fit(train_data)\n",
    "\n",
    "# Print the coefficients and intercept for generalized linear regression model\n",
    "print(\"Coefficients: \" + str(glr_model.coefficients))\n",
    "print(\"Intercept: \" + str(glr_model.intercept))\n",
    "\n",
    "# Summarize the model over the training set and print out some metrics\n",
    "glr_summary = glr_model.summary\n",
    "print(\"Coefficient Standard Errors: \" + str(glr_summary.coefficientStandardErrors))\n",
    "print(\"T Values: \" + str(glr_summary.tValues))\n",
    "print(\"P Values: \" + str(glr_summary.pValues))\n",
    "print(\"Dispersion: \" + str(glr_summary.dispersion))\n",
    "print(\"Null Deviance: \" + str(glr_summary.nullDeviance))\n",
    "print(\"Residual Degree Of Freedom Null: \" + str(glr_summary.residualDegreeOfFreedomNull))\n",
    "print(\"Deviance: \" + str(glr_summary.deviance))\n",
    "print(\"Residual Degree Of Freedom: \" + str(glr_summary.residualDegreeOfFreedom))\n",
    "print(\"AIC: \" + str(glr_summary.aic))\n",
    "print(\"Deviance Residuals: \")\n",
    "glr_summary.residuals().show()"
   ]
  },
  {
   "cell_type": "code",
   "execution_count": 35,
   "metadata": {},
   "outputs": [
    {
     "data": {
      "text/plain": [
       "Text(0,0.5,'Beta Coefficients')"
      ]
     },
     "execution_count": 35,
     "metadata": {},
     "output_type": "execute_result"
    },
    {
     "data": {
      "image/png": "[encoded data removed]",
      "text/plain": [
       "<Figure size 432x288 with 1 Axes>"
      ]
     },
     "metadata": {},
     "output_type": "display_data"
    }
   ],
   "source": [
    "import matplotlib.pyplot as plt\n",
    "import numpy as np\n",
    "\n",
    "# Visualising the coefficients. Sort from lowest to highest.\n",
    "beta = np.sort(glr_model.coefficients)\n",
    "\n",
    "# Plot the data.\n",
    "plt.plot(beta)\n",
    "\n",
    "# Add a label to the data.\n",
    "plt.ylabel('Beta Coefficients')"
   ]
  },
  {
   "cell_type": "code",
   "execution_count": 56,
   "metadata": {},
   "outputs": [
    {
     "name": "stdout",
     "output_type": "stream",
     "text": [
      "+--------------+--------------------+\n",
      "|Total visitors|            features|\n",
      "+--------------+--------------------+\n",
      "|         67277|[2.0,1997.0,4.0,1...|\n",
      "|          8381|[6.0,1997.0,4.0,3...|\n",
      "|          6677|[10.0,1997.0,4.0,...|\n",
      "|          5959|[11.0,1997.0,4.0,...|\n",
      "|         16699|[14.0,1997.0,4.0,...|\n",
      "+--------------+--------------------+\n",
      "only showing top 5 rows\n",
      "\n",
      "Root Mean Squared Error (RMSE) on test data = 13280.9\n"
     ]
    }
   ],
   "source": [
    "from pyspark.ml.regression import DecisionTreeRegressor\n",
    "from pyspark.ml.evaluation import RegressionEvaluator\n",
    "\n",
    "\n",
    "# Train a DecisionTree model.\n",
    "dt = DecisionTreeRegressor(featuresCol='features', labelCol='Total visitors')\n",
    "\n",
    "# Train model.  This also runs the indexer.\n",
    "model = dt.fit(train_data)\n",
    "\n",
    "# Make predictions.\n",
    "predictions = model.transform(test_data)\n",
    "\n",
    "# Select example rows to display.\n",
    "predictions.select( \"Total visitors\", \"features\").show(5)\n",
    "\n",
    "# Select (prediction, true label) and compute test error\n",
    "evaluator = RegressionEvaluator(\n",
    "    labelCol=\"Total visitors\", predictionCol=\"prediction\", metricName=\"rmse\")\n",
    "\n",
    "rmse = evaluator.evaluate(predictions)\n",
    "print(\"Root Mean Squared Error (RMSE) on test data = %g\" % rmse)"
   ]
  },
  {
   "cell_type": "code",
   "execution_count": null,
   "metadata": {},
   "outputs": [],
   "source": []
  }
 ],
 "metadata": {
  "kernelspec": {
   "display_name": "Python 3",
   "language": "python",
   "name": "python3"
  },
  "language_info": {
   "codemirror_mode": {
    "name": "ipython",
    "version": 3
   },
   "file_extension": ".py",
   "mimetype": "text/x-python",
   "name": "python",
   "nbconvert_exporter": "python",
   "pygments_lexer": "ipython3",
   "version": "3.5.2"
  }
 },
 "nbformat": 4,
 "nbformat_minor": 2
}
